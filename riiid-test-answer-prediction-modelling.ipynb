{
 "cells": [
  {
   "cell_type": "code",
   "execution_count": null,
   "metadata": {},
   "outputs": [],
   "source": [
    "import pandas as pd\n",
    "from pathlib import Path\n",
    "import pickle\n",
    "from sklearn.metrics import roc_auc_score\n",
    "from kaggle import api\n",
    "from pandas.api.types import is_string_dtype, is_numeric_dtype, is_categorical_dtype\n",
    "from fastai.tabular.all import *\n",
    "from sklearn.ensemble import RandomForestClassifier\n",
    "from sklearn.tree import DecisionTreeRegressor\n",
    "from dtreeviz.trees import *\n",
    "from IPython.display import Image, display_svg, SVG"
   ]
  },
  {
   "cell_type": "code",
   "execution_count": null,
   "metadata": {},
   "outputs": [],
   "source": [
    "path=Path('./data')"
   ]
  },
  {
   "cell_type": "code",
   "execution_count": null,
   "metadata": {},
   "outputs": [],
   "source": [
    "# train_p1 = pd.read_feather(path/'train_p1_transformed.feather')\n",
    "train_p2 = pd.read_feather(path/'train_p2_transformed.feather')\n",
    "val_p1 = pd.read_feather(path/'val_p1_transformed.feather')\n",
    "# val_p2 = pd.read_feather(path/'val_p2_transformed.feather')"
   ]
  },
  {
   "cell_type": "code",
   "execution_count": null,
   "metadata": {},
   "outputs": [],
   "source": [
    "train_p2.shape, val_p1.shape, val_p2.shape"
   ]
  },
  {
   "cell_type": "code",
   "execution_count": null,
   "metadata": {},
   "outputs": [],
   "source": [
    "train_p2 = train_p2.drop(index=train_p2[train_p2['content_type_id']==1].index, columns = ['content_type_id']).reset_index(drop=True)\n",
    "val_p1 = val_p1.drop(index=val_p1[val_p1['content_type_id']==1].index, columns = ['content_type_id']).reset_index(drop=True)\n",
    "# val_p2 = val_p2.drop(index=val_p2[val_p2['content_type_id']==1].index, columns = ['content_type_id']).reset_index(drop=True)"
   ]
  },
  {
   "cell_type": "code",
   "execution_count": null,
   "metadata": {},
   "outputs": [],
   "source": [
    "train_p2.shape, val_p1.shape, #val_p2.shape"
   ]
  },
  {
   "cell_type": "code",
   "execution_count": null,
   "metadata": {},
   "outputs": [],
   "source": [
    "train_p2_val_p1 = train_p2.append(val_p1).reset_index(drop=True)"
   ]
  },
  {
   "cell_type": "code",
   "execution_count": null,
   "metadata": {},
   "outputs": [],
   "source": [
    "train_p2_val_p1.shape"
   ]
  },
  {
   "cell_type": "code",
   "execution_count": null,
   "metadata": {},
   "outputs": [],
   "source": [
    "target = 'answered_correctly'\n",
    "# features = list(train_p2_val_p1.columns)\n",
    "features = list(val_p1.columns)\n",
    "# features.remove('user_id')\n",
    "features.remove(target)"
   ]
  },
  {
   "cell_type": "code",
   "execution_count": null,
   "metadata": {},
   "outputs": [],
   "source": [
    "print(features)"
   ]
  },
  {
   "cell_type": "code",
   "execution_count": null,
   "metadata": {},
   "outputs": [],
   "source": [
    "cont_nn = ['timestamp', 'task_container_id', 'prior_question_elapsed_time',\n",
    "           'question_mean', 'question_std', 'question_skew', 'time_between',\n",
    "           'question_cumcount', 'prior_question_elapsed_time_cumsum',\n",
    "           'time_per_question', 'timestamp_prior_time_cumsum_diff']\n",
    "\n",
    "cat_nn = ['user_id', 'content_id', 'prior_question_had_explanation', 'bundle_id',\n",
    "          'part', 'num_of_tags', 'bundle_size']"
   ]
  },
  {
   "cell_type": "code",
   "execution_count": null,
   "metadata": {},
   "outputs": [],
   "source": [
    "train_idx = train_p2_val_p1[:len(train_p2)].index\n",
    "val_idx = train_p2_val_p1[len(train_p2):].index"
   ]
  },
  {
   "cell_type": "code",
   "execution_count": null,
   "metadata": {},
   "outputs": [],
   "source": [
    "splits = (list(train_idx),list(val_idx))"
   ]
  },
  {
   "cell_type": "code",
   "execution_count": null,
   "metadata": {},
   "outputs": [],
   "source": [
    "procs_nn = [Categorify,\n",
    "            FillMissing,\n",
    "            Normalize]"
   ]
  },
  {
   "cell_type": "code",
   "execution_count": null,
   "metadata": {},
   "outputs": [],
   "source": [
    "to_nn = TabularPandas(\n",
    "    df = train_p2_val_p1,\n",
    "    procs=procs_nn,\n",
    "    cat_names=cat_nn,\n",
    "    cont_names=cont_nn,\n",
    "    y_names=target,\n",
    "    y_block=None,\n",
    "    splits=splits,\n",
    "    do_setup=True,\n",
    "    device=None,\n",
    "    inplace=False,\n",
    "    reduce_memory=True,\n",
    ")"
   ]
  },
  {
   "cell_type": "code",
   "execution_count": null,
   "metadata": {},
   "outputs": [],
   "source": [
    "train_p2_pred = TabularPandas(train_p2, procs_nn, cat_nn, cont_nn,\n",
    "                      splits=None, y_names=target)"
   ]
  },
  {
   "cell_type": "code",
   "execution_count": null,
   "metadata": {},
   "outputs": [],
   "source": [
    "val_p1_pred = TabularPandas(val_p1, procs_nn, cat_nn, cont_nn,\n",
    "                      splits=None, y_names=target)\n",
    "val_p2_pred = TabularPandas(val_p2, procs_nn, cat_nn, cont_nn,\n",
    "                      splits=None, y_names=target)"
   ]
  },
  {
   "cell_type": "code",
   "execution_count": null,
   "metadata": {},
   "outputs": [],
   "source": [
    "dls = to_nn.dataloaders(4096)\n",
    "# dls = train_p2_pred.dataloaders(1024)"
   ]
  },
  {
   "cell_type": "code",
   "execution_count": null,
   "metadata": {},
   "outputs": [],
   "source": [
    "learn = tabular_learner(dls, layers=[512,256], y_range=[0,1],\n",
    "                        n_out=None, loss_func=BCELossFlat(), model_dir=path/'models', metrics=accuracy)"
   ]
  },
  {
   "cell_type": "code",
   "execution_count": null,
   "metadata": {},
   "outputs": [],
   "source": [
    "learn.load('nn-t_p2-768-256-ts-before-e2')"
   ]
  },
  {
   "cell_type": "code",
   "execution_count": null,
   "metadata": {},
   "outputs": [],
   "source": [
    "learn.lr_find()"
   ]
  },
  {
   "cell_type": "code",
   "execution_count": null,
   "metadata": {
    "scrolled": true
   },
   "outputs": [],
   "source": [
    "learn.fit_one_cycle(1, 0.003)"
   ]
  },
  {
   "cell_type": "code",
   "execution_count": null,
   "metadata": {},
   "outputs": [],
   "source": [
    "learn.fit_one_cycle(1, 0.001)"
   ]
  },
  {
   "cell_type": "code",
   "execution_count": null,
   "metadata": {},
   "outputs": [],
   "source": [
    "learn.save('nn-t_p2-768-256-new-e1')"
   ]
  },
  {
   "cell_type": "code",
   "execution_count": null,
   "metadata": {},
   "outputs": [],
   "source": [
    "def predict_batch(self, df):\n",
    "    dl = self.dls.test_dl(df)\n",
    "    dl.dataset.conts = dl.dataset.conts.astype(np.float32)\n",
    "    inp,preds,_,dec_preds = self.get_preds(dl=dl, with_input=True, with_decoded=True)\n",
    "    return preds.numpy()\n",
    "\n",
    "setattr(learn, 'predict_batch', predict_batch)"
   ]
  },
  {
   "cell_type": "code",
   "execution_count": null,
   "metadata": {},
   "outputs": [],
   "source": [
    "preds_train_p2 = learn.predict_batch(learn, train_p2[features])\n",
    "preds_val_p1 = learn.predict_batch(learn, val_p1[features])\n",
    "preds_val_p2 = learn.predict_batch(learn, val_p2[features])"
   ]
  },
  {
   "cell_type": "code",
   "execution_count": null,
   "metadata": {},
   "outputs": [],
   "source": [
    "(preds_val_p2[-5:], val_p2[dep_var][-5:])"
   ]
  },
  {
   "cell_type": "code",
   "execution_count": null,
   "metadata": {},
   "outputs": [],
   "source": [
    "# 1 epochs lr 0.0005\n",
    "(roc_auc_score(train_p2[dep_var], preds_train_p2),\n",
    " roc_auc_score(val_p1[dep_var], preds_val_p1),\n",
    " roc_auc_score(val_p2[dep_var], preds_val_p2))"
   ]
  },
  {
   "cell_type": "code",
   "execution_count": null,
   "metadata": {},
   "outputs": [],
   "source": [
    "# 2 epochs lr 0.0005\n",
    "(roc_auc_score(train_p2[dep_var], preds_train_p2),\n",
    " roc_auc_score(val_p1[dep_var], preds_val_p1),\n",
    " roc_auc_score(val_p2[dep_var], preds_val_p2))"
   ]
  },
  {
   "cell_type": "code",
   "execution_count": null,
   "metadata": {},
   "outputs": [],
   "source": [
    "# 3 epochs lr 0.0005\n",
    "(roc_auc_score(train_p2[dep_var], preds_train_p2),\n",
    " roc_auc_score(val_p1[dep_var], preds_val_p1),\n",
    " roc_auc_score(val_p2[dep_var], preds_val_p2))"
   ]
  },
  {
   "cell_type": "code",
   "execution_count": null,
   "metadata": {},
   "outputs": [],
   "source": [
    "# 4 epochs lr 0.0005\n",
    "(roc_auc_score(train_p2[dep_var], preds_train_p2),\n",
    " roc_auc_score(val_p1[dep_var], preds_val_p1),\n",
    " roc_auc_score(val_p2[dep_var], preds_val_p2))"
   ]
  },
  {
   "cell_type": "code",
   "execution_count": null,
   "metadata": {},
   "outputs": [],
   "source": [
    "# 5 epochs lr 0.0005\n",
    "(roc_auc_score(train_p2[dep_var], preds_train_p2),\n",
    " roc_auc_score(val_p1[dep_var], preds_val_p1),\n",
    " roc_auc_score(val_p2[dep_var], preds_val_p2))"
   ]
  },
  {
   "cell_type": "code",
   "execution_count": null,
   "metadata": {},
   "outputs": [],
   "source": []
  },
  {
   "cell_type": "code",
   "execution_count": null,
   "metadata": {},
   "outputs": [],
   "source": [
    "# 1 epochs lr 0.0005 1024-512-256\n",
    "(roc_auc_score(train_p2[dep_var], preds_train_p2),\n",
    " roc_auc_score(val_p1[dep_var], preds_val_p1),\n",
    " roc_auc_score(val_p2[dep_var], preds_val_p2))"
   ]
  },
  {
   "cell_type": "code",
   "execution_count": null,
   "metadata": {},
   "outputs": [],
   "source": []
  },
  {
   "cell_type": "code",
   "execution_count": null,
   "metadata": {},
   "outputs": [],
   "source": [
    "# 1 epochs lr 0.001 ts-before\n",
    "(roc_auc_score(train_p2[dep_var], preds_train_p2),\n",
    " roc_auc_score(val_p1[dep_var], preds_val_p1),\n",
    " roc_auc_score(val_p2[dep_var], preds_val_p2))"
   ]
  },
  {
   "cell_type": "code",
   "execution_count": null,
   "metadata": {},
   "outputs": [],
   "source": [
    "# 2 epochs lr 0.001 ts-before\n",
    "(roc_auc_score(train_p2[dep_var], preds_train_p2),\n",
    " roc_auc_score(val_p1[dep_var], preds_val_p1),\n",
    " roc_auc_score(val_p2[dep_var], preds_val_p2))"
   ]
  },
  {
   "cell_type": "code",
   "execution_count": null,
   "metadata": {},
   "outputs": [],
   "source": []
  },
  {
   "cell_type": "code",
   "execution_count": null,
   "metadata": {},
   "outputs": [],
   "source": [
    "# 3 epochs lr 0.0005 1024-512-256-ts-before\n",
    "(roc_auc_score(train_p2[dep_var], preds_train_p2),\n",
    " roc_auc_score(val_p1[dep_var], preds_val_p1),\n",
    " roc_auc_score(val_p2[dep_var], preds_val_p2))"
   ]
  },
  {
   "cell_type": "code",
   "execution_count": null,
   "metadata": {},
   "outputs": [],
   "source": []
  },
  {
   "cell_type": "code",
   "execution_count": null,
   "metadata": {},
   "outputs": [],
   "source": [
    "# 1 epochs lr 0.003 768-256-new\n",
    "(roc_auc_score(train_p2[dep_var], preds_train_p2),\n",
    " roc_auc_score(val_p1[val_p1['content_type_id'] == 0][dep_var], preds_val_p1),\n",
    " roc_auc_score(val_p2[val_p2['content_type_id'] == 0][dep_var], preds_val_p2))"
   ]
  },
  {
   "cell_type": "code",
   "execution_count": null,
   "metadata": {},
   "outputs": [],
   "source": [
    "# 2 epochs lr 0.002 768-256-new\n",
    "(roc_auc_score(train_p2[dep_var], preds_train_p2),\n",
    " roc_auc_score(val_p1[dep_var], preds_val_p1),\n",
    " roc_auc_score(val_p2[dep_var], preds_val_p2))"
   ]
  },
  {
   "cell_type": "code",
   "execution_count": null,
   "metadata": {},
   "outputs": [],
   "source": []
  },
  {
   "cell_type": "code",
   "execution_count": null,
   "metadata": {},
   "outputs": [],
   "source": []
  },
  {
   "cell_type": "code",
   "execution_count": null,
   "metadata": {},
   "outputs": [],
   "source": [
    "train_p2.columns"
   ]
  },
  {
   "cell_type": "code",
   "execution_count": null,
   "metadata": {},
   "outputs": [],
   "source": [
    "train_p2['diff'] = train_p2['timestamp'] - train_p2['prior_question_elapsed_time_cumsum']\n",
    "val_p1['diff'] = val_p1['timestamp'] - val_p1['prior_question_elapsed_time_cumsum']\n",
    "val_p2['diff'] = val_p2['timestamp'] - val_p2['prior_question_elapsed_time_cumsum']"
   ]
  },
  {
   "cell_type": "code",
   "execution_count": null,
   "metadata": {},
   "outputs": [],
   "source": []
  },
  {
   "cell_type": "code",
   "execution_count": null,
   "metadata": {},
   "outputs": [],
   "source": []
  },
  {
   "cell_type": "code",
   "execution_count": null,
   "metadata": {},
   "outputs": [],
   "source": [
    "target = 'answered_correctly'\n",
    "features = list(val_p1.columns)\n",
    "features.remove(target)\n",
    "features.remove('user_id')\n",
    "# features.remove('timestamp')\n",
    "# features.remove('task_container_id')\n",
    "# features.remove('question_mean')\n",
    "# features.remove('question_std')\n",
    "# features.remove('question_skew')"
   ]
  },
  {
   "cell_type": "code",
   "execution_count": null,
   "metadata": {},
   "outputs": [],
   "source": [
    "train_p2.shape"
   ]
  },
  {
   "cell_type": "code",
   "execution_count": null,
   "metadata": {
    "scrolled": true
   },
   "outputs": [],
   "source": [
    "print(features)"
   ]
  },
  {
   "cell_type": "code",
   "execution_count": null,
   "metadata": {},
   "outputs": [],
   "source": [
    "cat = ['content_id', 'task_container_id', 'prior_question_had_explanation',\n",
    "       'bundle_id', 'part', 'num_of_tags', 'bundle_size',\n",
    "       'question_cumcount', 'is_prior_grater']"
   ]
  },
  {
   "cell_type": "markdown",
   "metadata": {},
   "source": [
    "RandomForest Classifier"
   ]
  },
  {
   "cell_type": "code",
   "execution_count": null,
   "metadata": {},
   "outputs": [],
   "source": [
    "rf = RandomForestClassifier(n_estimators=60,\n",
    "    criterion='gini',\n",
    "    max_depth=None,\n",
    "    min_samples_split=2,\n",
    "    min_samples_leaf=1,\n",
    "    min_weight_fraction_leaf=0.0,\n",
    "    max_features=1.0,\n",
    "    max_leaf_nodes=31, #default - None\n",
    "    min_impurity_decrease=0.0,\n",
    "    min_impurity_split=None,\n",
    "    bootstrap=True,\n",
    "    oob_score=False,\n",
    "    n_jobs=-1,\n",
    "    random_state=37,\n",
    "    verbose=1,\n",
    "    warm_start=False,\n",
    "    class_weight=None,\n",
    "    ccp_alpha=0.0,\n",
    "    max_samples=0.01)"
   ]
  },
  {
   "cell_type": "code",
   "execution_count": null,
   "metadata": {},
   "outputs": [],
   "source": [
    "rf.fit(train_p2[features].values, train_p2[target].values)"
   ]
  },
  {
   "cell_type": "code",
   "execution_count": null,
   "metadata": {},
   "outputs": [],
   "source": [
    "rf_preds_train_p2 = rf.predict_proba(train_p2[features])[:,1]\n",
    "rf_preds_p1 = rf.predict_proba(val_p1[features])[:,1]\n",
    "rf_preds_p2 = rf.predict_proba(val_p2[features])[:,1]"
   ]
  },
  {
   "cell_type": "code",
   "execution_count": null,
   "metadata": {},
   "outputs": [],
   "source": [
    "rf_preds_p2[-5:]"
   ]
  },
  {
   "cell_type": "code",
   "execution_count": null,
   "metadata": {},
   "outputs": [],
   "source": [
    "# rf 40 estimators (new)\n",
    "(roc_auc_score(train_p2[target], rf_preds_train_p2),\n",
    " roc_auc_score(val_p1[target], rf_preds_p1),\n",
    " roc_auc_score(val_p2[target], rf_preds_p2))"
   ]
  },
  {
   "cell_type": "code",
   "execution_count": null,
   "metadata": {},
   "outputs": [],
   "source": [
    "# rf 60 estimators (new)\n",
    "(roc_auc_score(train_p2[target], rf_preds_train_p2),\n",
    " roc_auc_score(val_p1[target], rf_preds_p1),\n",
    " roc_auc_score(val_p2[target], rf_preds_p2))"
   ]
  },
  {
   "cell_type": "code",
   "execution_count": null,
   "metadata": {},
   "outputs": [],
   "source": [
    "# rf 60 estimators (new)\n",
    "(roc_auc_score(train_p2[target], rf_preds_train_p2),\n",
    " roc_auc_score(val_p1[target], rf_preds_p1),\n",
    " roc_auc_score(val_p2[target], rf_preds_p2))"
   ]
  },
  {
   "cell_type": "code",
   "execution_count": null,
   "metadata": {},
   "outputs": [],
   "source": [
    "fi = rf.feature_importances_"
   ]
  },
  {
   "cell_type": "code",
   "execution_count": null,
   "metadata": {
    "scrolled": true
   },
   "outputs": [],
   "source": [
    "fi[fi.argsort()]"
   ]
  },
  {
   "cell_type": "code",
   "execution_count": null,
   "metadata": {},
   "outputs": [],
   "source": [
    "pd.DataFrame(zip(features, fi), columns=['features', 'importance']).sort_values(by='importance', ascending=False)"
   ]
  },
  {
   "cell_type": "code",
   "execution_count": null,
   "metadata": {},
   "outputs": [],
   "source": [
    "preds_estimators = np.stack([t.predict_proba(val_p1[features])[:,1] for t in rf.estimators_])"
   ]
  },
  {
   "cell_type": "code",
   "execution_count": null,
   "metadata": {},
   "outputs": [],
   "source": [
    "plt.plot([roc_auc_score(val_p1[target], preds_estimators[:i+1].mean(0)) for i in range(len(rf.estimators_))]);"
   ]
  },
  {
   "cell_type": "code",
   "execution_count": null,
   "metadata": {},
   "outputs": [],
   "source": []
  },
  {
   "cell_type": "markdown",
   "metadata": {},
   "source": [
    "XGBoost"
   ]
  },
  {
   "cell_type": "code",
   "execution_count": null,
   "metadata": {},
   "outputs": [],
   "source": [
    "import xgboost as xgb"
   ]
  },
  {
   "cell_type": "code",
   "execution_count": null,
   "metadata": {},
   "outputs": [],
   "source": [
    "print(dir(xgb))"
   ]
  },
  {
   "cell_type": "code",
   "execution_count": null,
   "metadata": {},
   "outputs": [],
   "source": [
    "dtrain_p2 = xgb.DMatrix(data=train_p2[features], label=train_p2[target], weight=None, base_margin=None,\n",
    "                        missing=None, silent=True, feature_names=features,\n",
    "                        feature_types=None, nthread=-1,)"
   ]
  },
  {
   "cell_type": "code",
   "execution_count": null,
   "metadata": {},
   "outputs": [],
   "source": [
    "dval_p1 = xgb.DMatrix(data=val_p1[features], label=val_p1[target], weight=None, base_margin=None,\n",
    "                        missing=None, silent=True, feature_names=features,\n",
    "                        feature_types=None, nthread=-1,)"
   ]
  },
  {
   "cell_type": "code",
   "execution_count": null,
   "metadata": {},
   "outputs": [],
   "source": [
    "dval_p2 = xgb.DMatrix(data=val_p2[features], label=val_p2[target], weight=None, base_margin=None,\n",
    "                        missing=None, silent=True, feature_names=features,\n",
    "                        feature_types=None, nthread=-1,)"
   ]
  },
  {
   "cell_type": "code",
   "execution_count": null,
   "metadata": {},
   "outputs": [],
   "source": [
    "params = {\n",
    "    # Parameters for Tree Booster\n",
    "    'learning_rate':0.6, 'min_split_loss':0,\n",
    "    'max_depth':3, 'subsample':0.1, 'colsample_bytree':1.0,\n",
    "    \n",
    "    # Learning Task Parameters\n",
    "    'objective':'binary:logistic',\n",
    "    'eval_metric':'auc'\n",
    "}"
   ]
  },
  {
   "cell_type": "code",
   "execution_count": null,
   "metadata": {},
   "outputs": [],
   "source": [
    "xgb_booster=xgb.train(params=params, dtrain=dtrain_p2, num_boost_round=30,\n",
    "          evals=((dtrain_p2, 'train_p2'), (dval_p1, 'val_p1'), (dval_p2, 'val_p2')),\n",
    "          obj=None, feval=None, maximize=False,\n",
    "          early_stopping_rounds=None, evals_result=None,\n",
    "          verbose_eval=5, xgb_model=None, callbacks=None)"
   ]
  },
  {
   "cell_type": "code",
   "execution_count": null,
   "metadata": {},
   "outputs": [],
   "source": [
    "xgb.plot_importance(xgb_booster, importance_type='weight')"
   ]
  },
  {
   "cell_type": "code",
   "execution_count": null,
   "metadata": {},
   "outputs": [],
   "source": []
  },
  {
   "cell_type": "markdown",
   "metadata": {},
   "source": [
    "LightGBM"
   ]
  },
  {
   "cell_type": "code",
   "execution_count": null,
   "metadata": {},
   "outputs": [],
   "source": [
    "import lightgbm as lgb"
   ]
  },
  {
   "cell_type": "code",
   "execution_count": null,
   "metadata": {},
   "outputs": [],
   "source": [
    "print(dir(lgb))"
   ]
  },
  {
   "cell_type": "code",
   "execution_count": null,
   "metadata": {},
   "outputs": [],
   "source": [
    "# gtrain = lgb.Dataset(data=train_df[features], label=train_df[target], reference=None,\n",
    "#                         weight=None, group=None, init_score=None,\n",
    "#                         silent=False, feature_name='auto',\n",
    "#                         categorical_feature='auto', params=None, free_raw_data=True)"
   ]
  },
  {
   "cell_type": "code",
   "execution_count": null,
   "metadata": {},
   "outputs": [],
   "source": [
    "# gval = lgb.Dataset(data=val_df[features], label=val_df[target], reference=gtrain,\n",
    "#                         weight=None, group=None, init_score=None,\n",
    "#                         silent=False, feature_name='auto',\n",
    "#                         categorical_feature='auto', params=None, free_raw_data=True)"
   ]
  },
  {
   "cell_type": "code",
   "execution_count": null,
   "metadata": {},
   "outputs": [],
   "source": []
  },
  {
   "cell_type": "code",
   "execution_count": null,
   "metadata": {},
   "outputs": [],
   "source": [
    "gtrain_p2 = lgb.Dataset(data=train_p2[features], label=train_p2[target], reference=None,\n",
    "                        weight=None, group=None, init_score=None,\n",
    "                        silent=False, feature_name='auto',\n",
    "                        categorical_feature='auto', params=None, free_raw_data=True)"
   ]
  },
  {
   "cell_type": "code",
   "execution_count": null,
   "metadata": {},
   "outputs": [],
   "source": [
    "gval_p1 = lgb.Dataset(data=val_p1[features], label=val_p1[target], reference=gtrain_p2,\n",
    "                        weight=None, group=None, init_score=None,\n",
    "                        silent=False, feature_name='auto',\n",
    "                        categorical_feature='auto', params=None, free_raw_data=True)"
   ]
  },
  {
   "cell_type": "code",
   "execution_count": null,
   "metadata": {},
   "outputs": [],
   "source": [
    "gval_p2 = lgb.Dataset(data=val_p2[features], label=val_p2[target], reference=gtrain_p2,\n",
    "                        weight=None, group=None, init_score=None,\n",
    "                        silent=False, feature_name='auto',\n",
    "                        categorical_feature='auto', params=None, free_raw_data=True)"
   ]
  },
  {
   "cell_type": "code",
   "execution_count": null,
   "metadata": {},
   "outputs": [],
   "source": [
    "lgb_params={\n",
    "    #Core Parameters\n",
    "    'objective':'binary', #cross_entropy\n",
    "    'learning_rate':0.6,\n",
    "    'num_leaves':31, #31\n",
    "    'num_threads':4,\n",
    "    'device_type':'cpu',\n",
    "    \n",
    "    #Learning Control Parameters\n",
    "    'max_depth':None,\n",
    "#     'feature_pre_filter':False, # to change the min_data_in_leaf\n",
    "    'min_data_in_leaf':20, # 20\n",
    "    'bagging_fraction':0.05,\n",
    "    'feature_fraction':1.0,\n",
    "    \n",
    "    #Metric Parameters\n",
    "    'metric':'auc'\n",
    "}"
   ]
  },
  {
   "cell_type": "code",
   "execution_count": null,
   "metadata": {},
   "outputs": [],
   "source": [
    "# lgb_booster = lgb.train(params=lgb_params, train_set=gtrain, num_boost_round=50,\n",
    "#                         valid_sets=[gtrain, gval], valid_names=['train_df', 'val_df'],\n",
    "#                         fobj=None, feval=None,\n",
    "#                         init_model=None, feature_name='auto', categorical_feature='auto',\n",
    "#                         early_stopping_rounds=None, evals_result=None, verbose_eval=5,\n",
    "#                         learning_rates=None, keep_training_booster=False, callbacks=None)"
   ]
  },
  {
   "cell_type": "code",
   "execution_count": null,
   "metadata": {},
   "outputs": [],
   "source": [
    "lgb_booster = lgb.train(params=lgb_params, train_set=gtrain_p2, num_boost_round=50,\n",
    "                        valid_sets=[gtrain_p2, gval_p1, gval_p2], valid_names=['train_p2','val_p1', 'val_p2'],\n",
    "                        fobj=None, feval=None,\n",
    "                        init_model=None, feature_name='auto', categorical_feature='auto',\n",
    "                        early_stopping_rounds=None, evals_result=None, verbose_eval=5,\n",
    "                        learning_rates=None, keep_training_booster=False, callbacks=None)"
   ]
  },
  {
   "cell_type": "code",
   "execution_count": null,
   "metadata": {},
   "outputs": [],
   "source": [
    "lgb_booster.save_model(path.stem+'/models/lgb_p2_50')"
   ]
  },
  {
   "cell_type": "code",
   "execution_count": null,
   "metadata": {
    "scrolled": true
   },
   "outputs": [],
   "source": [
    "lgb.plot_importance(lgb_booster)"
   ]
  },
  {
   "cell_type": "code",
   "execution_count": null,
   "metadata": {},
   "outputs": [],
   "source": [
    "xgb_preds_p1 = xgb_booster.predict(dval_p1)\n",
    "xgb_preds_p2 = xgb_booster.predict(dval_p2)"
   ]
  },
  {
   "cell_type": "code",
   "execution_count": null,
   "metadata": {},
   "outputs": [],
   "source": [
    "xgb_preds_p2"
   ]
  },
  {
   "cell_type": "code",
   "execution_count": null,
   "metadata": {},
   "outputs": [],
   "source": [
    "lgb_preds_p1 = lgb_booster.predict(val_p1[features])\n",
    "lgb_preds_p2 = lgb_booster.predict(val_p2[features])"
   ]
  },
  {
   "cell_type": "code",
   "execution_count": null,
   "metadata": {},
   "outputs": [],
   "source": [
    "lgb_preds_p2"
   ]
  },
  {
   "cell_type": "code",
   "execution_count": null,
   "metadata": {},
   "outputs": [],
   "source": []
  },
  {
   "cell_type": "code",
   "execution_count": null,
   "metadata": {},
   "outputs": [],
   "source": [
    "print(\"xgb --> val_p1: {:.4}, val_p2: {:.4}\".format(\n",
    "    roc_auc_score(val_p1[dep_var], xgb_preds_p1),\n",
    "    roc_auc_score(val_p2[dep_var], xgb_preds_p2)))"
   ]
  },
  {
   "cell_type": "code",
   "execution_count": null,
   "metadata": {},
   "outputs": [],
   "source": [
    "print(\"lbm --> val_p1: {:.4}, val_p2: {:.4}\".format(\n",
    "    roc_auc_score(val_p1[dep_var], lgb_preds_p1),\n",
    "    roc_auc_score(val_p2[dep_var], lgb_preds_p2)))"
   ]
  },
  {
   "cell_type": "code",
   "execution_count": null,
   "metadata": {},
   "outputs": [],
   "source": [
    "print(\"rf --> val_p1: {:.4}, val_p2: {:.4}\".format(\n",
    "    roc_auc_score(val_p1[dep_var], rf_preds_p1),\n",
    "    roc_auc_score(val_p2[dep_var], rf_preds_p2)))"
   ]
  },
  {
   "cell_type": "code",
   "execution_count": null,
   "metadata": {},
   "outputs": [],
   "source": []
  },
  {
   "cell_type": "code",
   "execution_count": null,
   "metadata": {},
   "outputs": [],
   "source": [
    "w = 0.1\n",
    "avg_preds_p1 = xgb_preds_p1*w + lgb_preds_p1*(1-w)\n",
    "avg_preds_p2 = xgb_preds_p2*w + lgb_preds_p2*(1-w)\n",
    "print(\"avg (xgb:{}) --> val_p1: {:.4}, val_p2: {:.4}\".format(\n",
    "    w,\n",
    "    roc_auc_score(val_p1[dep_var], avg_preds_p1),\n",
    "    roc_auc_score(val_p2[dep_var], avg_preds_p2)))"
   ]
  },
  {
   "cell_type": "code",
   "execution_count": null,
   "metadata": {},
   "outputs": [],
   "source": [
    "w = 0.2\n",
    "avg_preds_p1 = xgb_preds_p1*w + lgb_preds_p1*(1-w)\n",
    "avg_preds_p2 = xgb_preds_p2*w + lgb_preds_p2*(1-w)\n",
    "print(\"avg (xgb:{}) --> val_p1: {:.4}, val_p2: {:.4}\".format(\n",
    "    w,\n",
    "    roc_auc_score(val_p1[dep_var], avg_preds_p1),\n",
    "    roc_auc_score(val_p2[dep_var], avg_preds_p2)))"
   ]
  },
  {
   "cell_type": "code",
   "execution_count": null,
   "metadata": {},
   "outputs": [],
   "source": [
    "w = 0.3\n",
    "avg_preds_p1 = xgb_preds_p1*w + lgb_preds_p1*(1-w)\n",
    "avg_preds_p2 = xgb_preds_p2*w + lgb_preds_p2*(1-w)\n",
    "print(\"avg (xgb:{}) --> val_p1: {:.4}, val_p2: {:.4}\".format(\n",
    "    w,\n",
    "    roc_auc_score(val_p1[dep_var], avg_preds_p1),\n",
    "    roc_auc_score(val_p2[dep_var], avg_preds_p2)))"
   ]
  },
  {
   "cell_type": "code",
   "execution_count": null,
   "metadata": {},
   "outputs": [],
   "source": [
    "w = 0.4\n",
    "avg_preds_p1 = xgb_preds_p1*w + lgb_preds_p1*(1-w)\n",
    "avg_preds_p2 = xgb_preds_p2*w + lgb_preds_p2*(1-w)\n",
    "print(\"avg (xgb:{}) --> val_p1: {:.4}, val_p2: {:.4}\".format(\n",
    "    w,\n",
    "    roc_auc_score(val_p1[dep_var], avg_preds_p1),\n",
    "    roc_auc_score(val_p2[dep_var], avg_preds_p2)))"
   ]
  },
  {
   "cell_type": "code",
   "execution_count": null,
   "metadata": {},
   "outputs": [],
   "source": [
    "w = 0.5\n",
    "avg_preds_p1 = xgb_preds_p1*w + lgb_preds_p1*(1-w)\n",
    "avg_preds_p2 = xgb_preds_p2*w + lgb_preds_p2*(1-w)\n",
    "print(\"avg (xgb:{}) --> val_p1: {:.4}, val_p2: {:.4}\".format(\n",
    "    w,\n",
    "    roc_auc_score(val_p1[dep_var], avg_preds_p1),\n",
    "    roc_auc_score(val_p2[dep_var], avg_preds_p2)))"
   ]
  },
  {
   "cell_type": "code",
   "execution_count": null,
   "metadata": {},
   "outputs": [],
   "source": [
    "w = 0.6\n",
    "avg_preds_p1 = xgb_preds_p1*w + lgb_preds_p1*(1-w)\n",
    "avg_preds_p2 = xgb_preds_p2*w + lgb_preds_p2*(1-w)\n",
    "print(\"avg (xgb:{}) --> val_p1: {:.4}, val_p2: {:.4}\".format(\n",
    "    w,\n",
    "    roc_auc_score(val_p1[dep_var], avg_preds_p1),\n",
    "    roc_auc_score(val_p2[dep_var], avg_preds_p2)))"
   ]
  },
  {
   "cell_type": "code",
   "execution_count": null,
   "metadata": {},
   "outputs": [],
   "source": []
  },
  {
   "cell_type": "code",
   "execution_count": null,
   "metadata": {},
   "outputs": [],
   "source": []
  },
  {
   "cell_type": "code",
   "execution_count": null,
   "metadata": {},
   "outputs": [],
   "source": [
    "train_p1"
   ]
  },
  {
   "cell_type": "code",
   "execution_count": null,
   "metadata": {},
   "outputs": [],
   "source": [
    "train_p1[train_p1['user_id']==13134].tail(3)"
   ]
  },
  {
   "cell_type": "code",
   "execution_count": null,
   "metadata": {},
   "outputs": [],
   "source": [
    "train_p2[train_p2['user_id']==13134].tail(3)"
   ]
  },
  {
   "cell_type": "code",
   "execution_count": null,
   "metadata": {
    "scrolled": true
   },
   "outputs": [],
   "source": [
    "val_p1[val_p1['user_id']==13134].tail(3)"
   ]
  },
  {
   "cell_type": "code",
   "execution_count": null,
   "metadata": {},
   "outputs": [],
   "source": [
    "val_p2[val_p2['user_id']==13134].head(3)"
   ]
  }
 ],
 "metadata": {
  "kernelspec": {
   "display_name": "Python 3",
   "language": "python",
   "name": "python3"
  },
  "language_info": {
   "codemirror_mode": {
    "name": "ipython",
    "version": 3
   },
   "file_extension": ".py",
   "mimetype": "text/x-python",
   "name": "python",
   "nbconvert_exporter": "python",
   "pygments_lexer": "ipython3",
   "version": "3.8.2"
  }
 },
 "nbformat": 4,
 "nbformat_minor": 4
}
