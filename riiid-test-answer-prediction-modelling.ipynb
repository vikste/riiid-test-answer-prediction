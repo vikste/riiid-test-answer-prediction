{
 "cells": [
  {
   "cell_type": "code",
   "execution_count": 1,
   "metadata": {},
   "outputs": [],
   "source": [
    "import pandas as pd\n",
    "from pathlib import Path\n",
    "import pickle\n",
    "from sklearn.metrics import roc_auc_score\n",
    "from kaggle import api\n",
    "from pandas.api.types import is_string_dtype, is_numeric_dtype, is_categorical_dtype\n",
    "from fastai.tabular.all import *\n",
    "from sklearn.ensemble import RandomForestClassifier\n",
    "from sklearn.tree import DecisionTreeRegressor\n",
    "from dtreeviz.trees import *\n",
    "from IPython.display import Image, display_svg, SVG"
   ]
  },
  {
   "cell_type": "code",
   "execution_count": 2,
   "metadata": {},
   "outputs": [],
   "source": [
    "path=Path('./data')"
   ]
  },
  {
   "cell_type": "code",
   "execution_count": 3,
   "metadata": {},
   "outputs": [],
   "source": [
    "# train_p1 = pd.read_feather(path/'train_p1_transformed.feather')\n",
    "# train_p2 = pd.read_feather(path/'train_p2_transformed.feather')\n",
    "# train_p2 = pd.read_feather(path/'data_new_users_transformed.feather')\n",
    "# val_p1 = pd.read_feather(path/'val_p1_transformed.feather')\n",
    "# val_p2 = pd.read_feather(path/'val_p2_transformed.feather')\n",
    "\n",
    "train_p2 = pd.read_feather(path/'train_m_transformed.feather')\n",
    "val_p1 = pd.read_feather(path/'val_m_transformed.feather')"
   ]
  },
  {
   "cell_type": "code",
   "execution_count": null,
   "metadata": {},
   "outputs": [],
   "source": [
    "train_p2 = train_p2.append(val_p1).reset_index(drop=True)"
   ]
  },
  {
   "cell_type": "code",
   "execution_count": null,
   "metadata": {},
   "outputs": [],
   "source": [
    "train_p2.shape, val_p1.shape, val_p2.shape"
   ]
  },
  {
   "cell_type": "code",
   "execution_count": 4,
   "metadata": {},
   "outputs": [],
   "source": [
    "train_p2 = train_p2.drop(index=train_p2[train_p2['content_type_id']==1].index, columns = ['content_type_id']).reset_index(drop=True)\n",
    "val_p1 = val_p1.drop(index=val_p1[val_p1['content_type_id']==1].index, columns = ['content_type_id']).reset_index(drop=True)\n",
    "# val_p2 = val_p2.drop(index=val_p2[val_p2['content_type_id']==1].index, columns = ['content_type_id']).reset_index(drop=True)"
   ]
  },
  {
   "cell_type": "code",
   "execution_count": 5,
   "metadata": {},
   "outputs": [
    {
     "data": {
      "text/plain": [
       "((23630479, 21), (3433724, 21))"
      ]
     },
     "execution_count": 5,
     "metadata": {},
     "output_type": "execute_result"
    }
   ],
   "source": [
    "train_p2.shape, val_p1.shape, #val_p2.shape"
   ]
  },
  {
   "cell_type": "code",
   "execution_count": null,
   "metadata": {},
   "outputs": [],
   "source": [
    "train_p2_val_p1 = train_p2.append(val_p1).reset_index(drop=True)"
   ]
  },
  {
   "cell_type": "code",
   "execution_count": null,
   "metadata": {},
   "outputs": [],
   "source": [
    "train_p2_val_p1.shape"
   ]
  },
  {
   "cell_type": "code",
   "execution_count": null,
   "metadata": {},
   "outputs": [],
   "source": [
    "target = 'answered_correctly'\n",
    "# features = list(train_p2_val_p1.columns)\n",
    "features = list(val_p1.columns)\n",
    "features.remove('user_id')\n",
    "features.remove(target)"
   ]
  },
  {
   "cell_type": "code",
   "execution_count": null,
   "metadata": {},
   "outputs": [],
   "source": [
    "print(features)"
   ]
  },
  {
   "cell_type": "code",
   "execution_count": null,
   "metadata": {},
   "outputs": [],
   "source": [
    "cont_nn = ['prior_question_elapsed_time',\n",
    "           'question_mean', 'question_std', 'question_skew', 'time_between',\n",
    "           'question_cumcount','target_cumsum', 'prior_question_elapsed_time_cumsum', 'user_mean',\n",
    "           'time_per_question', 'timestamp_prior_time_cumsum_diff']\n",
    "\n",
    "cat_nn = ['content_id', 'prior_question_had_explanation', 'bundle_id',\n",
    "          'part', 'num_of_tags', 'bundle_size']"
   ]
  },
  {
   "cell_type": "code",
   "execution_count": null,
   "metadata": {},
   "outputs": [],
   "source": [
    "train_idx = train_p2_val_p1[:len(train_p2)].index\n",
    "val_idx = train_p2_val_p1[len(train_p2):].index"
   ]
  },
  {
   "cell_type": "code",
   "execution_count": null,
   "metadata": {},
   "outputs": [],
   "source": [
    "splits = (list(train_idx),list(val_idx))"
   ]
  },
  {
   "cell_type": "code",
   "execution_count": null,
   "metadata": {},
   "outputs": [],
   "source": [
    "procs_nn = [Categorify,\n",
    "            FillMissing,\n",
    "            Normalize]"
   ]
  },
  {
   "cell_type": "code",
   "execution_count": null,
   "metadata": {},
   "outputs": [],
   "source": [
    "to_nn = TabularPandas(\n",
    "    df = train_p2_val_p1,\n",
    "    procs=procs_nn,\n",
    "    cat_names=cat_nn,\n",
    "    cont_names=cont_nn,\n",
    "    y_names=target,\n",
    "    y_block=None,\n",
    "    splits=splits,\n",
    "    do_setup=True,\n",
    "    device=None,\n",
    "    inplace=False,\n",
    "    reduce_memory=True,\n",
    ")"
   ]
  },
  {
   "cell_type": "code",
   "execution_count": null,
   "metadata": {},
   "outputs": [],
   "source": [
    "dls = to_nn.dataloaders(4096)\n",
    "# dls = train_p2_pred.dataloaders(1024)"
   ]
  },
  {
   "cell_type": "code",
   "execution_count": null,
   "metadata": {},
   "outputs": [],
   "source": [
    "learn = tabular_learner(dls, layers=[512,256], y_range=[0,1],\n",
    "                        n_out=None, loss_func=BCELossFlat(), model_dir=path/'models', metrics=accuracy)"
   ]
  },
  {
   "cell_type": "code",
   "execution_count": null,
   "metadata": {},
   "outputs": [],
   "source": [
    "learn.load('nn-t_p2-768-256-ts-before-e2')"
   ]
  },
  {
   "cell_type": "code",
   "execution_count": null,
   "metadata": {},
   "outputs": [],
   "source": [
    "learn.lr_find()"
   ]
  },
  {
   "cell_type": "code",
   "execution_count": null,
   "metadata": {},
   "outputs": [],
   "source": [
    "learn.fit_one_cycle(1, 0.003)"
   ]
  },
  {
   "cell_type": "code",
   "execution_count": null,
   "metadata": {},
   "outputs": [],
   "source": [
    "learn.fit_one_cycle(1, 0.001)"
   ]
  },
  {
   "cell_type": "code",
   "execution_count": null,
   "metadata": {},
   "outputs": [],
   "source": [
    "learn.fit_one_cycle(1, 0.001)"
   ]
  },
  {
   "cell_type": "code",
   "execution_count": null,
   "metadata": {},
   "outputs": [],
   "source": [
    "learn.save('nn-t_p2-512-256-e1')"
   ]
  },
  {
   "cell_type": "code",
   "execution_count": null,
   "metadata": {},
   "outputs": [],
   "source": [
    "def predict_batch(self, df):\n",
    "    dl = self.dls.test_dl(df)\n",
    "    dl.dataset.conts = dl.dataset.conts.astype(np.float32)\n",
    "    inp,preds,_,dec_preds = self.get_preds(dl=dl, with_input=True, with_decoded=True)\n",
    "    return preds.numpy()\n",
    "\n",
    "setattr(learn, 'predict_batch', predict_batch)"
   ]
  },
  {
   "cell_type": "code",
   "execution_count": null,
   "metadata": {},
   "outputs": [],
   "source": [
    "preds_train_p2 = learn.predict_batch(learn, train_p2[features])\n",
    "preds_val_p1 = learn.predict_batch(learn, val_p1[features])\n",
    "preds_val_p2 = learn.predict_batch(learn, val_p2[features])"
   ]
  },
  {
   "cell_type": "code",
   "execution_count": null,
   "metadata": {},
   "outputs": [],
   "source": [
    "(preds_val_p2[-5:], val_p2[target][-5:])"
   ]
  },
  {
   "cell_type": "code",
   "execution_count": null,
   "metadata": {},
   "outputs": [],
   "source": []
  },
  {
   "cell_type": "code",
   "execution_count": null,
   "metadata": {},
   "outputs": [],
   "source": [
    "# 1 epochs lr 0.003\n",
    "(roc_auc_score(train_p2[target], preds_train_p2),\n",
    " roc_auc_score(val_p1[target], preds_val_p1),\n",
    " roc_auc_score(val_p2[target], preds_val_p2))"
   ]
  },
  {
   "cell_type": "code",
   "execution_count": null,
   "metadata": {},
   "outputs": [],
   "source": []
  },
  {
   "cell_type": "code",
   "execution_count": null,
   "metadata": {},
   "outputs": [],
   "source": []
  },
  {
   "cell_type": "code",
   "execution_count": 6,
   "metadata": {},
   "outputs": [],
   "source": [
    "target = 'answered_correctly'\n",
    "features = list(val_p1.columns)\n",
    "features.remove(target)\n",
    "features.remove('user_id')\n",
    "features.remove('timestamp')\n",
    "features.remove('task_container_id')\n",
    "\n",
    "features.remove('timestamp_prior_time_cumsum_diff')\n",
    "features.remove('target_cumsum')\n",
    "features.remove('prior_question_elapsed_time_cumsum')\n",
    "\n",
    "# features.remove('question_mean')\n",
    "# features.remove('question_std')\n",
    "# features.remove('question_skew')"
   ]
  },
  {
   "cell_type": "code",
   "execution_count": 7,
   "metadata": {},
   "outputs": [
    {
     "data": {
      "text/plain": [
       "(23630479, 21)"
      ]
     },
     "execution_count": 7,
     "metadata": {},
     "output_type": "execute_result"
    }
   ],
   "source": [
    "train_p2.shape"
   ]
  },
  {
   "cell_type": "code",
   "execution_count": 8,
   "metadata": {
    "scrolled": true
   },
   "outputs": [
    {
     "name": "stdout",
     "output_type": "stream",
     "text": [
      "['content_id', 'prior_question_elapsed_time', 'prior_question_had_explanation', 'bundle_id', 'part', 'num_of_tags', 'bundle_size', 'question_mean', 'question_std', 'question_skew', 'time_between', 'question_cumcount', 'user_mean', 'time_per_question']\n"
     ]
    }
   ],
   "source": [
    "print(features)"
   ]
  },
  {
   "cell_type": "code",
   "execution_count": null,
   "metadata": {},
   "outputs": [],
   "source": [
    "cat = ['content_id', 'task_container_id', 'prior_question_had_explanation',\n",
    "       'bundle_id', 'part', 'num_of_tags', 'bundle_size',\n",
    "       'question_cumcount', 'is_prior_grater']"
   ]
  },
  {
   "cell_type": "markdown",
   "metadata": {},
   "source": [
    "RandomForest Classifier"
   ]
  },
  {
   "cell_type": "code",
   "execution_count": null,
   "metadata": {},
   "outputs": [],
   "source": [
    "rf = RandomForestClassifier(n_estimators=60,\n",
    "    criterion='gini',\n",
    "    max_depth=None,\n",
    "    min_samples_split=2,\n",
    "    min_samples_leaf=1,\n",
    "    min_weight_fraction_leaf=0.0,\n",
    "    max_features=1.0,\n",
    "    max_leaf_nodes=None, #default - None\n",
    "    min_impurity_decrease=0.0,\n",
    "    min_impurity_split=None,\n",
    "    bootstrap=True,\n",
    "    oob_score=False,\n",
    "    n_jobs=-1,\n",
    "    random_state=37,\n",
    "    verbose=1,\n",
    "    warm_start=False,\n",
    "    class_weight=None,\n",
    "    ccp_alpha=0.0,\n",
    "    max_samples=0.01)"
   ]
  },
  {
   "cell_type": "code",
   "execution_count": null,
   "metadata": {},
   "outputs": [],
   "source": [
    "rf.fit(train_p2[features].values, train_p2[target].values)"
   ]
  },
  {
   "cell_type": "code",
   "execution_count": null,
   "metadata": {},
   "outputs": [],
   "source": [
    "rf_preds_train_p2 = rf.predict_proba(train_p2[features])[:,1]\n",
    "rf_preds_p1 = rf.predict_proba(val_p1[features])[:,1]\n",
    "rf_preds_p2 = rf.predict_proba(val_p2[features])[:,1]"
   ]
  },
  {
   "cell_type": "code",
   "execution_count": null,
   "metadata": {},
   "outputs": [],
   "source": [
    "rf_preds_p2[-5:]"
   ]
  },
  {
   "cell_type": "code",
   "execution_count": null,
   "metadata": {},
   "outputs": [],
   "source": [
    "# rf 60 estimators (new)\n",
    "(roc_auc_score(train_p2[target], rf_preds_train_p2),\n",
    " roc_auc_score(val_p1[target], rf_preds_p1),\n",
    " roc_auc_score(val_p2[target], rf_preds_p2))"
   ]
  },
  {
   "cell_type": "code",
   "execution_count": null,
   "metadata": {},
   "outputs": [],
   "source": [
    "fi = rf.feature_importances_"
   ]
  },
  {
   "cell_type": "code",
   "execution_count": null,
   "metadata": {
    "scrolled": true
   },
   "outputs": [],
   "source": [
    "fi[fi.argsort()]"
   ]
  },
  {
   "cell_type": "code",
   "execution_count": null,
   "metadata": {},
   "outputs": [],
   "source": [
    "pd.DataFrame(zip(features, fi), columns=['features', 'importance']).sort_values(by='importance', ascending=False)"
   ]
  },
  {
   "cell_type": "code",
   "execution_count": null,
   "metadata": {},
   "outputs": [],
   "source": [
    "preds_estimators = np.stack([t.predict_proba(val_p1[features])[:,1] for t in rf.estimators_])"
   ]
  },
  {
   "cell_type": "code",
   "execution_count": null,
   "metadata": {},
   "outputs": [],
   "source": [
    "plt.plot([roc_auc_score(val_p1[target], preds_estimators[:i+1].mean(0)) for i in range(len(rf.estimators_))]);"
   ]
  },
  {
   "cell_type": "code",
   "execution_count": null,
   "metadata": {},
   "outputs": [],
   "source": []
  },
  {
   "cell_type": "markdown",
   "metadata": {},
   "source": [
    "XGBoost"
   ]
  },
  {
   "cell_type": "code",
   "execution_count": 25,
   "metadata": {},
   "outputs": [],
   "source": [
    "import xgboost as xgb"
   ]
  },
  {
   "cell_type": "code",
   "execution_count": 26,
   "metadata": {},
   "outputs": [
    {
     "name": "stdout",
     "output_type": "stream",
     "text": [
      "['Booster', 'DMatrix', 'DeviceQuantileDMatrix', 'RabitTracker', 'VERSION_FILE', 'XGBClassifier', 'XGBModel', 'XGBRFClassifier', 'XGBRFRegressor', 'XGBRanker', 'XGBRegressor', '__all__', '__builtins__', '__cached__', '__doc__', '__file__', '__loader__', '__name__', '__package__', '__path__', '__spec__', '__version__', 'callback', 'compat', 'core', 'cv', 'dask', 'f', 'libpath', 'os', 'plot_importance', 'plot_tree', 'plotting', 'rabit', 'sklearn', 'to_graphviz', 'tracker', 'train', 'training']\n"
     ]
    }
   ],
   "source": [
    "print(dir(xgb))"
   ]
  },
  {
   "cell_type": "code",
   "execution_count": 27,
   "metadata": {},
   "outputs": [],
   "source": [
    "dtrain_p2 = xgb.DMatrix(data=train_p2[features], label=train_p2[target], weight=None, base_margin=None,\n",
    "                        missing=None, silent=True, feature_names=features,\n",
    "                        feature_types=None, nthread=-1,)"
   ]
  },
  {
   "cell_type": "code",
   "execution_count": 28,
   "metadata": {},
   "outputs": [],
   "source": [
    "dval_p1 = xgb.DMatrix(data=val_p1[features], label=val_p1[target], weight=None, base_margin=None,\n",
    "                        missing=None, silent=True, feature_names=features,\n",
    "                        feature_types=None, nthread=-1,)"
   ]
  },
  {
   "cell_type": "code",
   "execution_count": null,
   "metadata": {},
   "outputs": [],
   "source": [
    "# dval_p2 = xgb.DMatrix(data=val_p2[features], label=val_p2[target], weight=None, base_margin=None,\n",
    "#                         missing=None, silent=True, feature_names=features,\n",
    "#                         feature_types=None, nthread=-1,)"
   ]
  },
  {
   "cell_type": "code",
   "execution_count": 33,
   "metadata": {},
   "outputs": [],
   "source": [
    "params = {\n",
    "    # Parameters for Tree Booster\n",
    "    'learning_rate':0.6, 'min_split_loss':0,\n",
    "    'max_depth':6, 'subsample':0.1, 'colsample_bytree':1.0,\n",
    "    \n",
    "    # Learning Task Parameters\n",
    "    'objective':'binary:logistic',\n",
    "    'eval_metric':'auc'\n",
    "}"
   ]
  },
  {
   "cell_type": "code",
   "execution_count": null,
   "metadata": {},
   "outputs": [],
   "source": [
    "# xgb_booster=xgb.train(params=params, dtrain=dtrain_p2, num_boost_round=30,\n",
    "#           evals=((dtrain_p2, 'train_p2'), (dval_p1, 'val_p1'), (dval_p2, 'val_p2')),\n",
    "#           obj=None, feval=None, maximize=False,\n",
    "#           early_stopping_rounds=None, evals_result=None,\n",
    "#           verbose_eval=5, xgb_model=None, callbacks=None)"
   ]
  },
  {
   "cell_type": "code",
   "execution_count": 34,
   "metadata": {},
   "outputs": [
    {
     "name": "stdout",
     "output_type": "stream",
     "text": [
      "[19:08:21] WARNING: ../src/gbm/gbtree.cc:139: Tree method is automatically selected to be 'approx' for faster speed. To use old behavior (exact greedy algorithm on single machine), set tree_method to 'exact'.\n",
      "[0]\ttrain_p2-auc:0.75743\tval_p1-auc:0.75642\n",
      "[5]\ttrain_p2-auc:0.76842\tval_p1-auc:0.76739\n",
      "[10]\ttrain_p2-auc:0.77163\tval_p1-auc:0.77067\n",
      "[15]\ttrain_p2-auc:0.77263\tval_p1-auc:0.77189\n",
      "[20]\ttrain_p2-auc:0.77335\tval_p1-auc:0.77265\n",
      "[25]\ttrain_p2-auc:0.77374\tval_p1-auc:0.77290\n",
      "[29]\ttrain_p2-auc:0.77390\tval_p1-auc:0.77300\n"
     ]
    }
   ],
   "source": [
    "xgb_booster=xgb.train(params=params, dtrain=dtrain_p2, num_boost_round=30,\n",
    "          evals=((dtrain_p2, 'train_p2'), (dval_p1, 'val_p1')),\n",
    "          obj=None, feval=None, maximize=False,\n",
    "          early_stopping_rounds=None, evals_result=None,\n",
    "          verbose_eval=10, xgb_model=None, callbacks=None)"
   ]
  },
  {
   "cell_type": "code",
   "execution_count": 32,
   "metadata": {},
   "outputs": [
    {
     "name": "stdout",
     "output_type": "stream",
     "text": [
      "[18:52:29] WARNING: ../src/gbm/gbtree.cc:139: Tree method is automatically selected to be 'approx' for faster speed. To use old behavior (exact greedy algorithm on single machine), set tree_method to 'exact'.\n",
      "[0]\ttrain_p2-auc:0.75282\tval_p1-auc:0.75196\n",
      "[10]\ttrain_p2-auc:0.77078\tval_p1-auc:0.76976\n",
      "[20]\ttrain_p2-auc:0.77258\tval_p1-auc:0.77174\n",
      "[29]\ttrain_p2-auc:0.77338\tval_p1-auc:0.77246\n"
     ]
    }
   ],
   "source": [
    "xgb_booster=xgb.train(params=params, dtrain=dtrain_p2, num_boost_round=30,\n",
    "          evals=((dtrain_p2, 'train_p2'), (dval_p1, 'val_p1')),\n",
    "          obj=None, feval=None, maximize=False,\n",
    "          early_stopping_rounds=None, evals_result=None,\n",
    "          verbose_eval=10, xgb_model=None, callbacks=None)"
   ]
  },
  {
   "cell_type": "code",
   "execution_count": null,
   "metadata": {},
   "outputs": [],
   "source": [
    "xgb_booster.save_model(path.stem+'/models/xgb_p2_30')"
   ]
  },
  {
   "cell_type": "code",
   "execution_count": null,
   "metadata": {},
   "outputs": [],
   "source": [
    "xgb.plot_importance(xgb_booster, importance_type='weight')"
   ]
  },
  {
   "cell_type": "code",
   "execution_count": null,
   "metadata": {},
   "outputs": [],
   "source": [
    "xgb.plot_importance(xgb_booster, importance_type='weight')"
   ]
  },
  {
   "cell_type": "code",
   "execution_count": null,
   "metadata": {},
   "outputs": [],
   "source": []
  },
  {
   "cell_type": "markdown",
   "metadata": {},
   "source": [
    "LightGBM"
   ]
  },
  {
   "cell_type": "code",
   "execution_count": 9,
   "metadata": {},
   "outputs": [],
   "source": [
    "import lightgbm as lgb"
   ]
  },
  {
   "cell_type": "code",
   "execution_count": 10,
   "metadata": {},
   "outputs": [
    {
     "name": "stdout",
     "output_type": "stream",
     "text": [
      "['Booster', 'CVBooster', 'Dataset', 'LGBMClassifier', 'LGBMModel', 'LGBMRanker', 'LGBMRegressor', '__all__', '__builtins__', '__cached__', '__doc__', '__file__', '__loader__', '__name__', '__package__', '__path__', '__spec__', '__version__', 'absolute_import', 'basic', 'callback', 'compat', 'create_tree_digraph', 'cv', 'dir_path', 'early_stopping', 'engine', 'libpath', 'os', 'plot_importance', 'plot_metric', 'plot_split_value_histogram', 'plot_tree', 'plotting', 'print_evaluation', 'record_evaluation', 'reset_parameter', 'sklearn', 'train', 'version_file']\n"
     ]
    }
   ],
   "source": [
    "print(dir(lgb))"
   ]
  },
  {
   "cell_type": "code",
   "execution_count": 11,
   "metadata": {},
   "outputs": [],
   "source": [
    "gtrain = lgb.Dataset(data=train_p2[features], label=train_p2[target], reference=None,\n",
    "                        weight=None, group=None, init_score=None,\n",
    "                        silent=False, feature_name='auto',\n",
    "                        categorical_feature='auto', params=None, free_raw_data=True)"
   ]
  },
  {
   "cell_type": "code",
   "execution_count": 12,
   "metadata": {},
   "outputs": [],
   "source": [
    "gval = lgb.Dataset(data=val_p1[features], label=val_p1[target], reference=gtrain,\n",
    "                        weight=None, group=None, init_score=None,\n",
    "                        silent=False, feature_name='auto',\n",
    "                        categorical_feature='auto', params=None, free_raw_data=True)"
   ]
  },
  {
   "cell_type": "code",
   "execution_count": null,
   "metadata": {},
   "outputs": [],
   "source": []
  },
  {
   "cell_type": "code",
   "execution_count": null,
   "metadata": {},
   "outputs": [],
   "source": [
    "# gtrain_p2 = lgb.Dataset(data=train_p2[features], label=train_p2[target], reference=None,\n",
    "#                         weight=None, group=None, init_score=None,\n",
    "#                         silent=False, feature_name='auto',\n",
    "#                         categorical_feature='auto', params=None, free_raw_data=True)"
   ]
  },
  {
   "cell_type": "code",
   "execution_count": null,
   "metadata": {},
   "outputs": [],
   "source": [
    "# gval_p1 = lgb.Dataset(data=val_p1[features], label=val_p1[target], reference=gtrain_p2,\n",
    "#                         weight=None, group=None, init_score=None,\n",
    "#                         silent=False, feature_name='auto',\n",
    "#                         categorical_feature='auto', params=None, free_raw_data=True)"
   ]
  },
  {
   "cell_type": "code",
   "execution_count": null,
   "metadata": {},
   "outputs": [],
   "source": [
    "# gval_p2 = lgb.Dataset(data=val_p2[features], label=val_p2[target], reference=gtrain_p2,\n",
    "#                         weight=None, group=None, init_score=None,\n",
    "#                         silent=False, feature_name='auto',\n",
    "#                         categorical_feature='auto', params=None, free_raw_data=True)"
   ]
  },
  {
   "cell_type": "code",
   "execution_count": 23,
   "metadata": {},
   "outputs": [],
   "source": [
    "lgb_params={\n",
    "    #Core Parameters\n",
    "    'objective':'binary', #cross_entropy\n",
    "    'learning_rate':0.6,\n",
    "    'num_leaves':40, #31\n",
    "    'num_threads':4,\n",
    "    'device_type':'cpu',\n",
    "    \n",
    "    #Learning Control Parameters\n",
    "    'max_depth':None,\n",
    "#     'feature_pre_filter':False, # to change the min_data_in_leaf\n",
    "    'min_data_in_leaf':20, # 20\n",
    "    'bagging_fraction':0.1,#0.05 increase\n",
    "    'feature_fraction':1.0,\n",
    "    \n",
    "    #Metric Parameters\n",
    "    'metric':'auc'\n",
    "}"
   ]
  },
  {
   "cell_type": "code",
   "execution_count": 20,
   "metadata": {},
   "outputs": [
    {
     "name": "stdout",
     "output_type": "stream",
     "text": [
      "[LightGBM] [Info] Number of positive: 15415051, number of negative: 8215428\n",
      "[LightGBM] [Warning] Auto-choosing row-wise multi-threading, the overhead of testing was 0.392703 seconds.\n",
      "You can set `force_row_wise=true` to remove the overhead.\n",
      "And if memory is not enough, you can set `force_col_wise=true`.\n",
      "[LightGBM] [Info] Total Bins 2571\n",
      "[LightGBM] [Info] Number of data points in the train set: 23630479, number of used features: 14\n",
      "[LightGBM] [Info] [binary:BoostFromScore]: pavg=0.652338 -> initscore=0.629331\n",
      "[LightGBM] [Info] Start training from score 0.629331\n",
      "[10]\ttrain_df's auc: 0.77249\tval_df's auc: 0.771739\n",
      "[20]\ttrain_df's auc: 0.774292\tval_df's auc: 0.77358\n",
      "[30]\ttrain_df's auc: 0.775233\tval_df's auc: 0.774328\n",
      "[40]\ttrain_df's auc: 0.77577\tval_df's auc: 0.774682\n",
      "[50]\ttrain_df's auc: 0.776133\tval_df's auc: 0.775078\n",
      "[60]\ttrain_df's auc: 0.776466\tval_df's auc: 0.775308\n",
      "[70]\ttrain_df's auc: 0.776751\tval_df's auc: 0.775469\n"
     ]
    }
   ],
   "source": [
    "lgb_booster = lgb.train(params=lgb_params, train_set=gtrain, num_boost_round=80,\n",
    "                        valid_sets=[gtrain, gval], valid_names=['train_df', 'val_df'],\n",
    "                        fobj=None, feval=None,\n",
    "                        init_model=None, feature_name='auto', categorical_feature='auto',\n",
    "                        early_stopping_rounds=None, evals_result=None, verbose_eval=10,\n",
    "                        learning_rates=None, keep_training_booster=False, callbacks=None)"
   ]
  },
  {
   "cell_type": "code",
   "execution_count": 24,
   "metadata": {},
   "outputs": [
    {
     "name": "stdout",
     "output_type": "stream",
     "text": [
      "[LightGBM] [Info] Number of positive: 15415051, number of negative: 8215428\n",
      "[LightGBM] [Warning] Auto-choosing row-wise multi-threading, the overhead of testing was 0.356273 seconds.\n",
      "You can set `force_row_wise=true` to remove the overhead.\n",
      "And if memory is not enough, you can set `force_col_wise=true`.\n",
      "[LightGBM] [Info] Total Bins 2571\n",
      "[LightGBM] [Info] Number of data points in the train set: 23630479, number of used features: 14\n",
      "[LightGBM] [Info] [binary:BoostFromScore]: pavg=0.652338 -> initscore=0.629331\n",
      "[LightGBM] [Info] Start training from score 0.629331\n",
      "[10]\ttrain_df's auc: 0.772072\tval_df's auc: 0.771538\n",
      "[20]\ttrain_df's auc: 0.7743\tval_df's auc: 0.773516\n",
      "[30]\ttrain_df's auc: 0.775155\tval_df's auc: 0.774499\n",
      "[40]\ttrain_df's auc: 0.775625\tval_df's auc: 0.774846\n",
      "[50]\ttrain_df's auc: 0.776074\tval_df's auc: 0.775199\n",
      "[60]\ttrain_df's auc: 0.776391\tval_df's auc: 0.775464\n",
      "[70]\ttrain_df's auc: 0.776646\tval_df's auc: 0.775656\n"
     ]
    }
   ],
   "source": [
    "lgb_booster = lgb.train(params=lgb_params, train_set=gtrain, num_boost_round=75,\n",
    "                        valid_sets=[gtrain, gval], valid_names=['train_df', 'val_df'],\n",
    "                        fobj=None, feval=None,\n",
    "                        init_model=None, feature_name='auto', categorical_feature='auto',\n",
    "                        early_stopping_rounds=None, evals_result=None, verbose_eval=10,\n",
    "                        learning_rates=None, keep_training_booster=False, callbacks=None)"
   ]
  },
  {
   "cell_type": "code",
   "execution_count": null,
   "metadata": {},
   "outputs": [],
   "source": [
    "# lgb_booster = lgb.train(params=lgb_params, train_set=gtrain_p2, num_boost_round=75,\n",
    "#                         valid_sets=[gtrain_p2, gval_p1, gval_p2], valid_names=['train_p2','val_p1', 'val_p2'],\n",
    "#                         fobj=None, feval=None,\n",
    "#                         init_model=None, feature_name='auto', categorical_feature='auto',\n",
    "#                         early_stopping_rounds=None, evals_result=None, verbose_eval=5,\n",
    "#                         learning_rates=None, keep_training_booster=False, callbacks=None)"
   ]
  },
  {
   "cell_type": "code",
   "execution_count": null,
   "metadata": {},
   "outputs": [],
   "source": [
    "lgb_booster.save_model(path.stem+'/models/lgb_p2_75-l40-14f')"
   ]
  },
  {
   "cell_type": "code",
   "execution_count": 18,
   "metadata": {
    "scrolled": true
   },
   "outputs": [
    {
     "data": {
      "text/plain": [
       "<AxesSubplot:title={'center':'Feature importance'}, xlabel='Feature importance', ylabel='Features'>"
      ]
     },
     "execution_count": 18,
     "metadata": {},
     "output_type": "execute_result"
    },
    {
     "data": {
      "image/png": "[encoded data removed]",
      "text/plain": [
       "<Figure size 432x288 with 1 Axes>"
      ]
     },
     "metadata": {
      "needs_background": "light"
     },
     "output_type": "display_data"
    }
   ],
   "source": [
    "lgb.plot_importance(lgb_booster)"
   ]
  },
  {
   "cell_type": "code",
   "execution_count": null,
   "metadata": {},
   "outputs": [],
   "source": [
    "lgb_booster = lgb.Booster(model_file=path.stem + '/models/lgb_p2_50')"
   ]
  },
  {
   "cell_type": "code",
   "execution_count": null,
   "metadata": {},
   "outputs": [],
   "source": []
  },
  {
   "cell_type": "code",
   "execution_count": null,
   "metadata": {},
   "outputs": [],
   "source": [
    "xgb_preds_p1 = xgb_booster.predict(dval_p1)\n",
    "xgb_preds_p2 = xgb_booster.predict(dval_p2)"
   ]
  },
  {
   "cell_type": "code",
   "execution_count": null,
   "metadata": {},
   "outputs": [],
   "source": [
    "xgb_preds_p2"
   ]
  },
  {
   "cell_type": "code",
   "execution_count": null,
   "metadata": {},
   "outputs": [],
   "source": [
    "lgb_preds_p1 = lgb_booster.predict(val_p1[features])\n",
    "lgb_preds_p2 = lgb_booster.predict(val_p2[features])"
   ]
  },
  {
   "cell_type": "code",
   "execution_count": null,
   "metadata": {},
   "outputs": [],
   "source": [
    "lgb_preds_p2"
   ]
  },
  {
   "cell_type": "code",
   "execution_count": null,
   "metadata": {},
   "outputs": [],
   "source": []
  },
  {
   "cell_type": "code",
   "execution_count": null,
   "metadata": {},
   "outputs": [],
   "source": [
    "print(\"xgb --> val_p1: {:.4}, val_p2: {:.4}\".format(\n",
    "    roc_auc_score(val_p1[target], xgb_preds_p1),\n",
    "    roc_auc_score(val_p2[target], xgb_preds_p2)))"
   ]
  },
  {
   "cell_type": "code",
   "execution_count": null,
   "metadata": {},
   "outputs": [],
   "source": [
    "print(\"lbm --> val_p1: {:.4}, val_p2: {:.4}\".format(\n",
    "    roc_auc_score(val_p1[target], lgb_preds_p1),\n",
    "    roc_auc_score(val_p2[target], lgb_preds_p2)))"
   ]
  },
  {
   "cell_type": "code",
   "execution_count": null,
   "metadata": {},
   "outputs": [],
   "source": [
    "print(\"rf --> val_p1: {:.4}, val_p2: {:.4}\".format(\n",
    "    roc_auc_score(val_p1[target], rf_preds_p1),\n",
    "    roc_auc_score(val_p2[target], rf_preds_p2)))"
   ]
  },
  {
   "cell_type": "code",
   "execution_count": null,
   "metadata": {},
   "outputs": [],
   "source": []
  },
  {
   "cell_type": "code",
   "execution_count": null,
   "metadata": {},
   "outputs": [],
   "source": [
    "w = 0.1\n",
    "avg_preds_p1 = xgb_preds_p1*w + lgb_preds_p1*(1-w)\n",
    "avg_preds_p2 = xgb_preds_p2*w + lgb_preds_p2*(1-w)\n",
    "print(\"avg (xgb:{}) --> val_p1: {:.4}, val_p2: {:.4}\".format(\n",
    "    w,\n",
    "    roc_auc_score(val_p1[target], avg_preds_p1),\n",
    "    roc_auc_score(val_p2[target], avg_preds_p2)))"
   ]
  },
  {
   "cell_type": "code",
   "execution_count": null,
   "metadata": {},
   "outputs": [],
   "source": [
    "w = 0.2\n",
    "avg_preds_p1 = xgb_preds_p1*w + lgb_preds_p1*(1-w)\n",
    "avg_preds_p2 = xgb_preds_p2*w + lgb_preds_p2*(1-w)\n",
    "print(\"avg (xgb:{}) --> val_p1: {:.4}, val_p2: {:.4}\".format(\n",
    "    w,\n",
    "    roc_auc_score(val_p1[target], avg_preds_p1),\n",
    "    roc_auc_score(val_p2[target], avg_preds_p2)))"
   ]
  },
  {
   "cell_type": "code",
   "execution_count": null,
   "metadata": {},
   "outputs": [],
   "source": [
    "w = 0.3\n",
    "avg_preds_p1 = xgb_preds_p1*w + lgb_preds_p1*(1-w)\n",
    "avg_preds_p2 = xgb_preds_p2*w + lgb_preds_p2*(1-w)\n",
    "print(\"avg (xgb:{}) --> val_p1: {:.4}, val_p2: {:.4}\".format(\n",
    "    w,\n",
    "    roc_auc_score(val_p1[target], avg_preds_p1),\n",
    "    roc_auc_score(val_p2[target], avg_preds_p2)))"
   ]
  },
  {
   "cell_type": "code",
   "execution_count": null,
   "metadata": {},
   "outputs": [],
   "source": [
    "w = 0.4\n",
    "avg_preds_p1 = xgb_preds_p1*w + lgb_preds_p1*(1-w)\n",
    "avg_preds_p2 = xgb_preds_p2*w + lgb_preds_p2*(1-w)\n",
    "print(\"avg (xgb:{}) --> val_p1: {:.4}, val_p2: {:.4}\".format(\n",
    "    w,\n",
    "    roc_auc_score(val_p1[target], avg_preds_p1),\n",
    "    roc_auc_score(val_p2[target], avg_preds_p2)))"
   ]
  },
  {
   "cell_type": "code",
   "execution_count": null,
   "metadata": {},
   "outputs": [],
   "source": [
    "w = 0.5\n",
    "avg_preds_p1 = xgb_preds_p1*w + lgb_preds_p1*(1-w)\n",
    "avg_preds_p2 = xgb_preds_p2*w + lgb_preds_p2*(1-w)\n",
    "print(\"avg (xgb:{}) --> val_p1: {:.4}, val_p2: {:.4}\".format(\n",
    "    w,\n",
    "    roc_auc_score(val_p1[target], avg_preds_p1),\n",
    "    roc_auc_score(val_p2[target], avg_preds_p2)))"
   ]
  },
  {
   "cell_type": "code",
   "execution_count": null,
   "metadata": {},
   "outputs": [],
   "source": [
    "w = 0.6\n",
    "avg_preds_p1 = xgb_preds_p1*w + lgb_preds_p1*(1-w)\n",
    "avg_preds_p2 = xgb_preds_p2*w + lgb_preds_p2*(1-w)\n",
    "print(\"avg (xgb:{}) --> val_p1: {:.4}, val_p2: {:.4}\".format(\n",
    "    w,\n",
    "    roc_auc_score(val_p1[target], avg_preds_p1),\n",
    "    roc_auc_score(val_p2[target], avg_preds_p2)))"
   ]
  },
  {
   "cell_type": "code",
   "execution_count": null,
   "metadata": {},
   "outputs": [],
   "source": []
  },
  {
   "cell_type": "code",
   "execution_count": null,
   "metadata": {},
   "outputs": [],
   "source": []
  },
  {
   "cell_type": "code",
   "execution_count": null,
   "metadata": {},
   "outputs": [],
   "source": [
    "train_p1"
   ]
  },
  {
   "cell_type": "code",
   "execution_count": null,
   "metadata": {},
   "outputs": [],
   "source": [
    "train_p1[train_p1['user_id']==13134].tail(3)"
   ]
  },
  {
   "cell_type": "code",
   "execution_count": null,
   "metadata": {},
   "outputs": [],
   "source": [
    "train_p2[train_p2['user_id']==13134].tail(3)"
   ]
  },
  {
   "cell_type": "code",
   "execution_count": null,
   "metadata": {
    "scrolled": true
   },
   "outputs": [],
   "source": [
    "val_p1[val_p1['user_id']==13134].tail(3)"
   ]
  },
  {
   "cell_type": "code",
   "execution_count": null,
   "metadata": {},
   "outputs": [],
   "source": [
    "val_p2[val_p2['user_id']==13134].head(3)"
   ]
  },
  {
   "cell_type": "code",
   "execution_count": null,
   "metadata": {},
   "outputs": [],
   "source": []
  },
  {
   "cell_type": "code",
   "execution_count": null,
   "metadata": {},
   "outputs": [],
   "source": []
  },
  {
   "cell_type": "code",
   "execution_count": 3,
   "metadata": {},
   "outputs": [],
   "source": [
    "data = pd.read_feather(path/'data.feather')"
   ]
  },
  {
   "cell_type": "code",
   "execution_count": 4,
   "metadata": {},
   "outputs": [],
   "source": [
    "data = data.drop(index=data[data['content_type_id']==1].index).reset_index(drop=True)"
   ]
  },
  {
   "cell_type": "code",
   "execution_count": 5,
   "metadata": {},
   "outputs": [
    {
     "data": {
      "text/plain": [
       "(99271300, 8)"
      ]
     },
     "execution_count": 5,
     "metadata": {},
     "output_type": "execute_result"
    }
   ],
   "source": [
    "data.shape"
   ]
  },
  {
   "cell_type": "code",
   "execution_count": 6,
   "metadata": {},
   "outputs": [
    {
     "data": {
      "text/html": [
       "<div>\n",
       "<style scoped>\n",
       "    .dataframe tbody tr th:only-of-type {\n",
       "        vertical-align: middle;\n",
       "    }\n",
       "\n",
       "    .dataframe tbody tr th {\n",
       "        vertical-align: top;\n",
       "    }\n",
       "\n",
       "    .dataframe thead th {\n",
       "        text-align: right;\n",
       "    }\n",
       "</style>\n",
       "<table border=\"1\" class=\"dataframe\">\n",
       "  <thead>\n",
       "    <tr style=\"text-align: right;\">\n",
       "      <th></th>\n",
       "      <th>timestamp</th>\n",
       "      <th>user_id</th>\n",
       "      <th>content_id</th>\n",
       "      <th>content_type_id</th>\n",
       "      <th>task_container_id</th>\n",
       "      <th>answered_correctly</th>\n",
       "      <th>prior_question_elapsed_time</th>\n",
       "      <th>prior_question_had_explanation</th>\n",
       "    </tr>\n",
       "  </thead>\n",
       "  <tbody>\n",
       "    <tr>\n",
       "      <th>0</th>\n",
       "      <td>0</td>\n",
       "      <td>115</td>\n",
       "      <td>5692</td>\n",
       "      <td>0</td>\n",
       "      <td>1</td>\n",
       "      <td>1</td>\n",
       "      <td>NaN</td>\n",
       "      <td>&lt;NA&gt;</td>\n",
       "    </tr>\n",
       "    <tr>\n",
       "      <th>1</th>\n",
       "      <td>56943</td>\n",
       "      <td>115</td>\n",
       "      <td>5716</td>\n",
       "      <td>0</td>\n",
       "      <td>2</td>\n",
       "      <td>1</td>\n",
       "      <td>37000.0</td>\n",
       "      <td>False</td>\n",
       "    </tr>\n",
       "    <tr>\n",
       "      <th>2</th>\n",
       "      <td>118363</td>\n",
       "      <td>115</td>\n",
       "      <td>128</td>\n",
       "      <td>0</td>\n",
       "      <td>0</td>\n",
       "      <td>1</td>\n",
       "      <td>55000.0</td>\n",
       "      <td>False</td>\n",
       "    </tr>\n",
       "    <tr>\n",
       "      <th>3</th>\n",
       "      <td>131167</td>\n",
       "      <td>115</td>\n",
       "      <td>7860</td>\n",
       "      <td>0</td>\n",
       "      <td>3</td>\n",
       "      <td>1</td>\n",
       "      <td>19000.0</td>\n",
       "      <td>False</td>\n",
       "    </tr>\n",
       "    <tr>\n",
       "      <th>4</th>\n",
       "      <td>137965</td>\n",
       "      <td>115</td>\n",
       "      <td>7922</td>\n",
       "      <td>0</td>\n",
       "      <td>4</td>\n",
       "      <td>1</td>\n",
       "      <td>11000.0</td>\n",
       "      <td>False</td>\n",
       "    </tr>\n",
       "  </tbody>\n",
       "</table>\n",
       "</div>"
      ],
      "text/plain": [
       "   timestamp  user_id  content_id  content_type_id  task_container_id  \\\n",
       "0          0      115        5692                0                  1   \n",
       "1      56943      115        5716                0                  2   \n",
       "2     118363      115         128                0                  0   \n",
       "3     131167      115        7860                0                  3   \n",
       "4     137965      115        7922                0                  4   \n",
       "\n",
       "   answered_correctly  prior_question_elapsed_time  \\\n",
       "0                   1                          NaN   \n",
       "1                   1                      37000.0   \n",
       "2                   1                      55000.0   \n",
       "3                   1                      19000.0   \n",
       "4                   1                      11000.0   \n",
       "\n",
       "   prior_question_had_explanation  \n",
       "0                            <NA>  \n",
       "1                           False  \n",
       "2                           False  \n",
       "3                           False  \n",
       "4                           False  "
      ]
     },
     "execution_count": 6,
     "metadata": {},
     "output_type": "execute_result"
    }
   ],
   "source": [
    "data.head()"
   ]
  },
  {
   "cell_type": "code",
   "execution_count": 7,
   "metadata": {},
   "outputs": [],
   "source": [
    "user_ = data[['user_id', 'answered_correctly']].groupby('user_id').agg(['count', 'mean'])\n",
    "user_.columns=['a_count', 'a_mean']\n",
    "user_ = user_.reset_index()\n",
    "class_count = user_['a_count'].value_counts().to_frame()\n",
    "class_count.columns = ['class_count']\n",
    "user_ = user_.join(class_count, on='a_count')"
   ]
  },
  {
   "cell_type": "code",
   "execution_count": 8,
   "metadata": {},
   "outputs": [
    {
     "data": {
      "text/html": [
       "<div>\n",
       "<style scoped>\n",
       "    .dataframe tbody tr th:only-of-type {\n",
       "        vertical-align: middle;\n",
       "    }\n",
       "\n",
       "    .dataframe tbody tr th {\n",
       "        vertical-align: top;\n",
       "    }\n",
       "\n",
       "    .dataframe thead th {\n",
       "        text-align: right;\n",
       "    }\n",
       "</style>\n",
       "<table border=\"1\" class=\"dataframe\">\n",
       "  <thead>\n",
       "    <tr style=\"text-align: right;\">\n",
       "      <th></th>\n",
       "      <th>user_id</th>\n",
       "      <th>a_count</th>\n",
       "      <th>a_mean</th>\n",
       "      <th>class_count</th>\n",
       "    </tr>\n",
       "  </thead>\n",
       "  <tbody>\n",
       "    <tr>\n",
       "      <th>0</th>\n",
       "      <td>115</td>\n",
       "      <td>46</td>\n",
       "      <td>0.695652</td>\n",
       "      <td>1086</td>\n",
       "    </tr>\n",
       "    <tr>\n",
       "      <th>1</th>\n",
       "      <td>124</td>\n",
       "      <td>30</td>\n",
       "      <td>0.233333</td>\n",
       "      <td>62422</td>\n",
       "    </tr>\n",
       "    <tr>\n",
       "      <th>2</th>\n",
       "      <td>2746</td>\n",
       "      <td>19</td>\n",
       "      <td>0.578947</td>\n",
       "      <td>5309</td>\n",
       "    </tr>\n",
       "    <tr>\n",
       "      <th>3</th>\n",
       "      <td>5382</td>\n",
       "      <td>125</td>\n",
       "      <td>0.672000</td>\n",
       "      <td>414</td>\n",
       "    </tr>\n",
       "    <tr>\n",
       "      <th>4</th>\n",
       "      <td>8623</td>\n",
       "      <td>109</td>\n",
       "      <td>0.642202</td>\n",
       "      <td>498</td>\n",
       "    </tr>\n",
       "    <tr>\n",
       "      <th>...</th>\n",
       "      <td>...</td>\n",
       "      <td>...</td>\n",
       "      <td>...</td>\n",
       "      <td>...</td>\n",
       "    </tr>\n",
       "    <tr>\n",
       "      <th>393651</th>\n",
       "      <td>2147470770</td>\n",
       "      <td>226</td>\n",
       "      <td>0.765487</td>\n",
       "      <td>191</td>\n",
       "    </tr>\n",
       "    <tr>\n",
       "      <th>393652</th>\n",
       "      <td>2147470777</td>\n",
       "      <td>752</td>\n",
       "      <td>0.691489</td>\n",
       "      <td>38</td>\n",
       "    </tr>\n",
       "    <tr>\n",
       "      <th>393653</th>\n",
       "      <td>2147481750</td>\n",
       "      <td>50</td>\n",
       "      <td>0.760000</td>\n",
       "      <td>7348</td>\n",
       "    </tr>\n",
       "    <tr>\n",
       "      <th>393654</th>\n",
       "      <td>2147482216</td>\n",
       "      <td>275</td>\n",
       "      <td>0.643636</td>\n",
       "      <td>159</td>\n",
       "    </tr>\n",
       "    <tr>\n",
       "      <th>393655</th>\n",
       "      <td>2147482888</td>\n",
       "      <td>27</td>\n",
       "      <td>0.555556</td>\n",
       "      <td>9873</td>\n",
       "    </tr>\n",
       "  </tbody>\n",
       "</table>\n",
       "<p>393656 rows × 4 columns</p>\n",
       "</div>"
      ],
      "text/plain": [
       "           user_id  a_count    a_mean  class_count\n",
       "0              115       46  0.695652         1086\n",
       "1              124       30  0.233333        62422\n",
       "2             2746       19  0.578947         5309\n",
       "3             5382      125  0.672000          414\n",
       "4             8623      109  0.642202          498\n",
       "...            ...      ...       ...          ...\n",
       "393651  2147470770      226  0.765487          191\n",
       "393652  2147470777      752  0.691489           38\n",
       "393653  2147481750       50  0.760000         7348\n",
       "393654  2147482216      275  0.643636          159\n",
       "393655  2147482888       27  0.555556         9873\n",
       "\n",
       "[393656 rows x 4 columns]"
      ]
     },
     "execution_count": 8,
     "metadata": {},
     "output_type": "execute_result"
    }
   ],
   "source": [
    "user_"
   ]
  },
  {
   "cell_type": "code",
   "execution_count": 9,
   "metadata": {},
   "outputs": [],
   "source": [
    "val_users=[]"
   ]
  },
  {
   "cell_type": "code",
   "execution_count": 10,
   "metadata": {},
   "outputs": [],
   "source": [
    "# add 100 users with class_count 1 (635612 rows)\n",
    "val_users.extend(user_[user_['class_count']==1][:100]['user_id'].to_list())\n",
    "# val_users.sort()"
   ]
  },
  {
   "cell_type": "code",
   "execution_count": 11,
   "metadata": {},
   "outputs": [],
   "source": [
    "from sklearn.model_selection import train_test_split"
   ]
  },
  {
   "cell_type": "code",
   "execution_count": 12,
   "metadata": {},
   "outputs": [],
   "source": [
    "# set 1% as new users\n",
    "_, new_user_idx = train_test_split(user_[user_['class_count']!=1],\n",
    "                              test_size=0.01,\n",
    "                              stratify=user_[user_['class_count']!=1]['class_count'],\n",
    "                              random_state=2020)"
   ]
  },
  {
   "cell_type": "code",
   "execution_count": 13,
   "metadata": {},
   "outputs": [],
   "source": [
    "# add 3917 users as new users with stratified class_count (863668 rows)\n",
    "val_users.extend(new_user_idx['user_id'].to_list())"
   ]
  },
  {
   "cell_type": "code",
   "execution_count": 14,
   "metadata": {},
   "outputs": [
    {
     "data": {
      "text/plain": [
       "(4017, 1499280)"
      ]
     },
     "execution_count": 14,
     "metadata": {},
     "output_type": "execute_result"
    }
   ],
   "source": [
    "len(val_users), 635612 + 863668"
   ]
  },
  {
   "cell_type": "code",
   "execution_count": 15,
   "metadata": {},
   "outputs": [],
   "source": [
    "# set 30% as existing users\n",
    "_, users_to_split = train_test_split(user_[(user_['class_count']!=1)&(~user_['user_id'].isin(val_users))],\n",
    "                              test_size=0.3,\n",
    "                              stratify=user_[(user_['class_count']!=1)&(~user_['user_id'].isin(val_users))]['class_count'],\n",
    "                              random_state=2020)"
   ]
  },
  {
   "cell_type": "code",
   "execution_count": 16,
   "metadata": {},
   "outputs": [
    {
     "data": {
      "text/html": [
       "<div>\n",
       "<style scoped>\n",
       "    .dataframe tbody tr th:only-of-type {\n",
       "        vertical-align: middle;\n",
       "    }\n",
       "\n",
       "    .dataframe tbody tr th {\n",
       "        vertical-align: top;\n",
       "    }\n",
       "\n",
       "    .dataframe thead th {\n",
       "        text-align: right;\n",
       "    }\n",
       "</style>\n",
       "<table border=\"1\" class=\"dataframe\">\n",
       "  <thead>\n",
       "    <tr style=\"text-align: right;\">\n",
       "      <th></th>\n",
       "      <th>user_id</th>\n",
       "      <th>a_count</th>\n",
       "      <th>a_mean</th>\n",
       "      <th>class_count</th>\n",
       "    </tr>\n",
       "  </thead>\n",
       "  <tbody>\n",
       "    <tr>\n",
       "      <th>196104</th>\n",
       "      <td>1073806349</td>\n",
       "      <td>479</td>\n",
       "      <td>0.561587</td>\n",
       "      <td>88</td>\n",
       "    </tr>\n",
       "    <tr>\n",
       "      <th>332715</th>\n",
       "      <td>1817853928</td>\n",
       "      <td>64</td>\n",
       "      <td>0.703125</td>\n",
       "      <td>1015</td>\n",
       "    </tr>\n",
       "    <tr>\n",
       "      <th>304037</th>\n",
       "      <td>1661813013</td>\n",
       "      <td>210</td>\n",
       "      <td>0.680952</td>\n",
       "      <td>265</td>\n",
       "    </tr>\n",
       "    <tr>\n",
       "      <th>333477</th>\n",
       "      <td>1821791870</td>\n",
       "      <td>30</td>\n",
       "      <td>0.133333</td>\n",
       "      <td>62422</td>\n",
       "    </tr>\n",
       "    <tr>\n",
       "      <th>84765</th>\n",
       "      <td>464265306</td>\n",
       "      <td>17</td>\n",
       "      <td>0.647059</td>\n",
       "      <td>17137</td>\n",
       "    </tr>\n",
       "    <tr>\n",
       "      <th>...</th>\n",
       "      <td>...</td>\n",
       "      <td>...</td>\n",
       "      <td>...</td>\n",
       "      <td>...</td>\n",
       "    </tr>\n",
       "    <tr>\n",
       "      <th>71187</th>\n",
       "      <td>390516538</td>\n",
       "      <td>567</td>\n",
       "      <td>0.772487</td>\n",
       "      <td>61</td>\n",
       "    </tr>\n",
       "    <tr>\n",
       "      <th>302574</th>\n",
       "      <td>1653578093</td>\n",
       "      <td>722</td>\n",
       "      <td>0.373961</td>\n",
       "      <td>55</td>\n",
       "    </tr>\n",
       "    <tr>\n",
       "      <th>30186</th>\n",
       "      <td>165729932</td>\n",
       "      <td>36</td>\n",
       "      <td>0.333333</td>\n",
       "      <td>1755</td>\n",
       "    </tr>\n",
       "    <tr>\n",
       "      <th>155220</th>\n",
       "      <td>851106025</td>\n",
       "      <td>81</td>\n",
       "      <td>0.629630</td>\n",
       "      <td>851</td>\n",
       "    </tr>\n",
       "    <tr>\n",
       "      <th>327238</th>\n",
       "      <td>1787894639</td>\n",
       "      <td>151</td>\n",
       "      <td>0.880795</td>\n",
       "      <td>363</td>\n",
       "    </tr>\n",
       "  </tbody>\n",
       "</table>\n",
       "<p>116335 rows × 4 columns</p>\n",
       "</div>"
      ],
      "text/plain": [
       "           user_id  a_count    a_mean  class_count\n",
       "196104  1073806349      479  0.561587           88\n",
       "332715  1817853928       64  0.703125         1015\n",
       "304037  1661813013      210  0.680952          265\n",
       "333477  1821791870       30  0.133333        62422\n",
       "84765    464265306       17  0.647059        17137\n",
       "...            ...      ...       ...          ...\n",
       "71187    390516538      567  0.772487           61\n",
       "302574  1653578093      722  0.373961           55\n",
       "30186    165729932       36  0.333333         1755\n",
       "155220   851106025       81  0.629630          851\n",
       "327238  1787894639      151  0.880795          363\n",
       "\n",
       "[116335 rows x 4 columns]"
      ]
     },
     "execution_count": 16,
     "metadata": {},
     "output_type": "execute_result"
    }
   ],
   "source": [
    "users_to_split"
   ]
  },
  {
   "cell_type": "code",
   "execution_count": 17,
   "metadata": {},
   "outputs": [
    {
     "data": {
      "text/plain": [
       "116335"
      ]
     },
     "execution_count": 17,
     "metadata": {},
     "output_type": "execute_result"
    }
   ],
   "source": [
    "len(users_to_split['user_id'].unique())"
   ]
  },
  {
   "cell_type": "code",
   "execution_count": 18,
   "metadata": {},
   "outputs": [],
   "source": [
    "data_ = data.loc[data['user_id'].isin(users_to_split['user_id'])].copy()"
   ]
  },
  {
   "cell_type": "code",
   "execution_count": 19,
   "metadata": {},
   "outputs": [
    {
     "data": {
      "text/plain": [
       "(25564923, 8)"
      ]
     },
     "execution_count": 19,
     "metadata": {},
     "output_type": "execute_result"
    }
   ],
   "source": [
    "data_.shape"
   ]
  },
  {
   "cell_type": "code",
   "execution_count": 20,
   "metadata": {},
   "outputs": [
    {
     "data": {
      "text/plain": [
       "116335"
      ]
     },
     "execution_count": 20,
     "metadata": {},
     "output_type": "execute_result"
    }
   ],
   "source": [
    "len(data_['user_id'].unique())"
   ]
  },
  {
   "cell_type": "code",
   "execution_count": 21,
   "metadata": {},
   "outputs": [],
   "source": [
    "def get_val_idx(df, n_iter=17):\n",
    "        \"\"\"Get validation idx.\"\"\"\n",
    "        \n",
    "        counter = 0\n",
    "        val_idx = []\n",
    "        df['user_filter'] = (df[['user_id', 'task_container_id']].groupby('user_id').transform('nunique').values > n_iter)\n",
    "    \n",
    "        while counter < n_iter:\n",
    "            train_trans = df.loc[df['user_filter'], ['user_id', 'timestamp']].groupby('user_id').transform('max').values.squeeze()\n",
    "            val_filter = (train_trans == df.loc[df['user_filter'], 'timestamp'].values)\n",
    "            val_idx.extend(df.loc[df['user_filter']][val_filter].index.to_list())\n",
    "            val_idx.sort()\n",
    "            \n",
    "            df = df.drop(df[df['user_filter']][val_filter].index)\n",
    "            \n",
    "            counter += 1\n",
    "    \n",
    "        return val_idx"
   ]
  },
  {
   "cell_type": "code",
   "execution_count": 22,
   "metadata": {},
   "outputs": [],
   "source": [
    "existing_users_idx = get_val_idx(data_, n_iter=20)"
   ]
  },
  {
   "cell_type": "code",
   "execution_count": 23,
   "metadata": {},
   "outputs": [
    {
     "data": {
      "text/plain": [
       "[22, 23, 24, 25, 26]"
      ]
     },
     "execution_count": 23,
     "metadata": {},
     "output_type": "execute_result"
    }
   ],
   "source": [
    "existing_users_idx[:5]"
   ]
  },
  {
   "cell_type": "code",
   "execution_count": 24,
   "metadata": {},
   "outputs": [
    {
     "data": {
      "text/plain": [
       "1934444"
      ]
     },
     "execution_count": 24,
     "metadata": {},
     "output_type": "execute_result"
    }
   ],
   "source": [
    "len(existing_users_idx)"
   ]
  },
  {
   "cell_type": "code",
   "execution_count": 25,
   "metadata": {},
   "outputs": [
    {
     "data": {
      "text/plain": [
       "3433724"
      ]
     },
     "execution_count": 25,
     "metadata": {},
     "output_type": "execute_result"
    }
   ],
   "source": [
    "1499280 + 1934444"
   ]
  },
  {
   "cell_type": "code",
   "execution_count": 26,
   "metadata": {},
   "outputs": [],
   "source": [
    "val_df = data.loc[existing_users_idx]"
   ]
  },
  {
   "cell_type": "code",
   "execution_count": 27,
   "metadata": {},
   "outputs": [
    {
     "data": {
      "text/plain": [
       "(1934444, 8)"
      ]
     },
     "execution_count": 27,
     "metadata": {},
     "output_type": "execute_result"
    }
   ],
   "source": [
    "val_df.shape"
   ]
  },
  {
   "cell_type": "code",
   "execution_count": 28,
   "metadata": {},
   "outputs": [
    {
     "data": {
      "text/plain": [
       "78633"
      ]
     },
     "execution_count": 28,
     "metadata": {},
     "output_type": "execute_result"
    }
   ],
   "source": [
    "len(val_df['user_id'].unique())"
   ]
  },
  {
   "cell_type": "code",
   "execution_count": 29,
   "metadata": {},
   "outputs": [],
   "source": [
    "train_df = data[data['user_id'].isin(users_to_split['user_id'])].drop(data.loc[existing_users_idx].index).reset_index(drop=True)"
   ]
  },
  {
   "cell_type": "code",
   "execution_count": 30,
   "metadata": {},
   "outputs": [],
   "source": [
    "common_users = set(train_df['user_id'].unique()).intersection(val_df['user_id'].unique())"
   ]
  },
  {
   "cell_type": "code",
   "execution_count": 31,
   "metadata": {},
   "outputs": [],
   "source": [
    "only_in_train = set(train_df['user_id'].unique()).difference(common_users)"
   ]
  },
  {
   "cell_type": "code",
   "execution_count": 32,
   "metadata": {},
   "outputs": [],
   "source": [
    "only_in_val = set(val_df['user_id'].unique()).difference(common_users)"
   ]
  },
  {
   "cell_type": "code",
   "execution_count": 33,
   "metadata": {},
   "outputs": [
    {
     "data": {
      "text/plain": [
       "(78633, 37702, 0)"
      ]
     },
     "execution_count": 33,
     "metadata": {},
     "output_type": "execute_result"
    }
   ],
   "source": [
    "len(common_users), len(only_in_train), len(only_in_val)"
   ]
  },
  {
   "cell_type": "code",
   "execution_count": 34,
   "metadata": {},
   "outputs": [
    {
     "data": {
      "text/plain": [
       "116335"
      ]
     },
     "execution_count": 34,
     "metadata": {},
     "output_type": "execute_result"
    }
   ],
   "source": [
    "len(common_users) + len(only_in_train) + len(only_in_val)"
   ]
  },
  {
   "cell_type": "code",
   "execution_count": 35,
   "metadata": {
    "scrolled": true
   },
   "outputs": [
    {
     "data": {
      "text/plain": [
       "((23630479, 8), (1934444, 8))"
      ]
     },
     "execution_count": 35,
     "metadata": {},
     "output_type": "execute_result"
    }
   ],
   "source": [
    "train_df.shape, val_df.shape"
   ]
  },
  {
   "cell_type": "code",
   "execution_count": 36,
   "metadata": {},
   "outputs": [],
   "source": [
    "check = train_df.loc[train_df['user_id'].isin(common_users),['user_id', 'timestamp']].groupby('user_id').max().join(\n",
    "    val_df.loc[val_df['user_id'].isin(common_users), ['user_id', 'timestamp']].groupby('user_id').min(),rsuffix='_val')"
   ]
  },
  {
   "cell_type": "code",
   "execution_count": 37,
   "metadata": {},
   "outputs": [
    {
     "data": {
      "text/plain": [
       "(78633, 2)"
      ]
     },
     "execution_count": 37,
     "metadata": {},
     "output_type": "execute_result"
    }
   ],
   "source": [
    "check.shape"
   ]
  },
  {
   "cell_type": "code",
   "execution_count": 38,
   "metadata": {},
   "outputs": [
    {
     "data": {
      "text/html": [
       "<div>\n",
       "<style scoped>\n",
       "    .dataframe tbody tr th:only-of-type {\n",
       "        vertical-align: middle;\n",
       "    }\n",
       "\n",
       "    .dataframe tbody tr th {\n",
       "        vertical-align: top;\n",
       "    }\n",
       "\n",
       "    .dataframe thead th {\n",
       "        text-align: right;\n",
       "    }\n",
       "</style>\n",
       "<table border=\"1\" class=\"dataframe\">\n",
       "  <thead>\n",
       "    <tr style=\"text-align: right;\">\n",
       "      <th></th>\n",
       "      <th>timestamp</th>\n",
       "      <th>timestamp_val</th>\n",
       "    </tr>\n",
       "    <tr>\n",
       "      <th>user_id</th>\n",
       "      <th></th>\n",
       "      <th></th>\n",
       "    </tr>\n",
       "  </thead>\n",
       "  <tbody>\n",
       "    <tr>\n",
       "      <th>115</th>\n",
       "      <td>510583</td>\n",
       "      <td>534187</td>\n",
       "    </tr>\n",
       "    <tr>\n",
       "      <th>5382</th>\n",
       "      <td>553688832</td>\n",
       "      <td>553766282</td>\n",
       "    </tr>\n",
       "    <tr>\n",
       "      <th>46886</th>\n",
       "      <td>13966278</td>\n",
       "      <td>13990828</td>\n",
       "    </tr>\n",
       "    <tr>\n",
       "      <th>50132</th>\n",
       "      <td>836900379</td>\n",
       "      <td>1085142294</td>\n",
       "    </tr>\n",
       "    <tr>\n",
       "      <th>51285</th>\n",
       "      <td>22455</td>\n",
       "      <td>41947</td>\n",
       "    </tr>\n",
       "    <tr>\n",
       "      <th>...</th>\n",
       "      <td>...</td>\n",
       "      <td>...</td>\n",
       "    </tr>\n",
       "    <tr>\n",
       "      <th>2147402806</th>\n",
       "      <td>267875051</td>\n",
       "      <td>267973520</td>\n",
       "    </tr>\n",
       "    <tr>\n",
       "      <th>2147413636</th>\n",
       "      <td>22532643875</td>\n",
       "      <td>22532779286</td>\n",
       "    </tr>\n",
       "    <tr>\n",
       "      <th>2147464207</th>\n",
       "      <td>32209963</td>\n",
       "      <td>32560303</td>\n",
       "    </tr>\n",
       "    <tr>\n",
       "      <th>2147470770</th>\n",
       "      <td>2772163678</td>\n",
       "      <td>2831199877</td>\n",
       "    </tr>\n",
       "    <tr>\n",
       "      <th>2147482216</th>\n",
       "      <td>1417202575</td>\n",
       "      <td>1470029002</td>\n",
       "    </tr>\n",
       "  </tbody>\n",
       "</table>\n",
       "<p>78633 rows × 2 columns</p>\n",
       "</div>"
      ],
      "text/plain": [
       "              timestamp  timestamp_val\n",
       "user_id                               \n",
       "115              510583         534187\n",
       "5382          553688832      553766282\n",
       "46886          13966278       13990828\n",
       "50132         836900379     1085142294\n",
       "51285             22455          41947\n",
       "...                 ...            ...\n",
       "2147402806    267875051      267973520\n",
       "2147413636  22532643875    22532779286\n",
       "2147464207     32209963       32560303\n",
       "2147470770   2772163678     2831199877\n",
       "2147482216   1417202575     1470029002\n",
       "\n",
       "[78633 rows x 2 columns]"
      ]
     },
     "execution_count": 38,
     "metadata": {},
     "output_type": "execute_result"
    }
   ],
   "source": [
    "check"
   ]
  },
  {
   "cell_type": "code",
   "execution_count": 39,
   "metadata": {},
   "outputs": [
    {
     "data": {
      "text/plain": [
       "0"
      ]
     },
     "execution_count": 39,
     "metadata": {},
     "output_type": "execute_result"
    }
   ],
   "source": [
    "(check['timestamp'] > check['timestamp_val']).sum()"
   ]
  },
  {
   "cell_type": "code",
   "execution_count": null,
   "metadata": {},
   "outputs": [],
   "source": []
  },
  {
   "cell_type": "code",
   "execution_count": 40,
   "metadata": {},
   "outputs": [],
   "source": [
    "val_df = val_df.append(data[data['user_id'].isin(val_users)]).sort_values(by=['user_id', 'timestamp']).reset_index(drop=True)"
   ]
  },
  {
   "cell_type": "code",
   "execution_count": 41,
   "metadata": {},
   "outputs": [
    {
     "data": {
      "text/plain": [
       "(3433724, 8)"
      ]
     },
     "execution_count": 41,
     "metadata": {},
     "output_type": "execute_result"
    }
   ],
   "source": [
    "val_df.shape"
   ]
  },
  {
   "cell_type": "code",
   "execution_count": 42,
   "metadata": {},
   "outputs": [],
   "source": [
    "questions_df = pd.read_csv(path/'questions.csv')"
   ]
  },
  {
   "cell_type": "code",
   "execution_count": 43,
   "metadata": {},
   "outputs": [
    {
     "data": {
      "text/plain": [
       "13523"
      ]
     },
     "execution_count": 43,
     "metadata": {},
     "output_type": "execute_result"
    }
   ],
   "source": [
    "len(questions_df['question_id'].unique())"
   ]
  },
  {
   "cell_type": "code",
   "execution_count": 44,
   "metadata": {},
   "outputs": [
    {
     "data": {
      "text/plain": [
       "13523"
      ]
     },
     "execution_count": 44,
     "metadata": {},
     "output_type": "execute_result"
    }
   ],
   "source": [
    "len(data['content_id'].unique())"
   ]
  },
  {
   "cell_type": "code",
   "execution_count": 45,
   "metadata": {},
   "outputs": [
    {
     "data": {
      "text/plain": [
       "13511"
      ]
     },
     "execution_count": 45,
     "metadata": {},
     "output_type": "execute_result"
    }
   ],
   "source": [
    "len(train_df['content_id'].unique())"
   ]
  },
  {
   "cell_type": "code",
   "execution_count": 46,
   "metadata": {},
   "outputs": [
    {
     "data": {
      "text/plain": [
       "13485"
      ]
     },
     "execution_count": 46,
     "metadata": {},
     "output_type": "execute_result"
    }
   ],
   "source": [
    "len(val_df['content_id'].unique())"
   ]
  },
  {
   "cell_type": "code",
   "execution_count": 47,
   "metadata": {},
   "outputs": [
    {
     "data": {
      "text/html": [
       "<div>\n",
       "<style scoped>\n",
       "    .dataframe tbody tr th:only-of-type {\n",
       "        vertical-align: middle;\n",
       "    }\n",
       "\n",
       "    .dataframe tbody tr th {\n",
       "        vertical-align: top;\n",
       "    }\n",
       "\n",
       "    .dataframe thead th {\n",
       "        text-align: right;\n",
       "    }\n",
       "</style>\n",
       "<table border=\"1\" class=\"dataframe\">\n",
       "  <thead>\n",
       "    <tr style=\"text-align: right;\">\n",
       "      <th></th>\n",
       "      <th>timestamp</th>\n",
       "      <th>user_id</th>\n",
       "      <th>content_id</th>\n",
       "      <th>content_type_id</th>\n",
       "      <th>task_container_id</th>\n",
       "      <th>answered_correctly</th>\n",
       "      <th>prior_question_elapsed_time</th>\n",
       "      <th>prior_question_had_explanation</th>\n",
       "    </tr>\n",
       "  </thead>\n",
       "  <tbody>\n",
       "    <tr>\n",
       "      <th>0</th>\n",
       "      <td>0</td>\n",
       "      <td>115</td>\n",
       "      <td>5692</td>\n",
       "      <td>0</td>\n",
       "      <td>1</td>\n",
       "      <td>1</td>\n",
       "      <td>NaN</td>\n",
       "      <td>&lt;NA&gt;</td>\n",
       "    </tr>\n",
       "    <tr>\n",
       "      <th>1</th>\n",
       "      <td>56943</td>\n",
       "      <td>115</td>\n",
       "      <td>5716</td>\n",
       "      <td>0</td>\n",
       "      <td>2</td>\n",
       "      <td>1</td>\n",
       "      <td>37000.0</td>\n",
       "      <td>False</td>\n",
       "    </tr>\n",
       "    <tr>\n",
       "      <th>2</th>\n",
       "      <td>118363</td>\n",
       "      <td>115</td>\n",
       "      <td>128</td>\n",
       "      <td>0</td>\n",
       "      <td>0</td>\n",
       "      <td>1</td>\n",
       "      <td>55000.0</td>\n",
       "      <td>False</td>\n",
       "    </tr>\n",
       "    <tr>\n",
       "      <th>3</th>\n",
       "      <td>131167</td>\n",
       "      <td>115</td>\n",
       "      <td>7860</td>\n",
       "      <td>0</td>\n",
       "      <td>3</td>\n",
       "      <td>1</td>\n",
       "      <td>19000.0</td>\n",
       "      <td>False</td>\n",
       "    </tr>\n",
       "    <tr>\n",
       "      <th>4</th>\n",
       "      <td>137965</td>\n",
       "      <td>115</td>\n",
       "      <td>7922</td>\n",
       "      <td>0</td>\n",
       "      <td>4</td>\n",
       "      <td>1</td>\n",
       "      <td>11000.0</td>\n",
       "      <td>False</td>\n",
       "    </tr>\n",
       "  </tbody>\n",
       "</table>\n",
       "</div>"
      ],
      "text/plain": [
       "   timestamp  user_id  content_id  content_type_id  task_container_id  \\\n",
       "0          0      115        5692                0                  1   \n",
       "1      56943      115        5716                0                  2   \n",
       "2     118363      115         128                0                  0   \n",
       "3     131167      115        7860                0                  3   \n",
       "4     137965      115        7922                0                  4   \n",
       "\n",
       "   answered_correctly  prior_question_elapsed_time  \\\n",
       "0                   1                          NaN   \n",
       "1                   1                      37000.0   \n",
       "2                   1                      55000.0   \n",
       "3                   1                      19000.0   \n",
       "4                   1                      11000.0   \n",
       "\n",
       "   prior_question_had_explanation  \n",
       "0                            <NA>  \n",
       "1                           False  \n",
       "2                           False  \n",
       "3                           False  \n",
       "4                           False  "
      ]
     },
     "execution_count": 47,
     "metadata": {},
     "output_type": "execute_result"
    }
   ],
   "source": [
    "train_df.head()"
   ]
  },
  {
   "cell_type": "code",
   "execution_count": null,
   "metadata": {},
   "outputs": [],
   "source": []
  },
  {
   "cell_type": "code",
   "execution_count": 48,
   "metadata": {},
   "outputs": [],
   "source": [
    "train_df.to_feather(path/'train_m.feather')\n",
    "val_df.to_feather(path/'val_m.feather')"
   ]
  },
  {
   "cell_type": "code",
   "execution_count": null,
   "metadata": {},
   "outputs": [],
   "source": []
  }
 ],
 "metadata": {
  "kernelspec": {
   "display_name": "Python 3",
   "language": "python",
   "name": "python3"
  },
  "language_info": {
   "codemirror_mode": {
    "name": "ipython",
    "version": 3
   },
   "file_extension": ".py",
   "mimetype": "text/x-python",
   "name": "python",
   "nbconvert_exporter": "python",
   "pygments_lexer": "ipython3",
   "version": "3.8.2"
  }
 },
 "nbformat": 4,
 "nbformat_minor": 4
}
