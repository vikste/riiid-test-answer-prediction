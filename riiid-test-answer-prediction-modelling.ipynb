{
 "cells": [
  {
   "cell_type": "code",
   "execution_count": null,
   "metadata": {},
   "outputs": [],
   "source": [
    "import pandas as pd\n",
    "from pathlib import Path\n",
    "import pickle\n",
    "from sklearn.metrics import roc_auc_score\n",
    "from kaggle import api\n",
    "from pandas.api.types import is_string_dtype, is_numeric_dtype, is_categorical_dtype\n",
    "from fastai.tabular.all import *\n",
    "from sklearn.ensemble import RandomForestClassifier\n",
    "from sklearn.tree import DecisionTreeRegressor\n",
    "from dtreeviz.trees import *\n",
    "from IPython.display import Image, display_svg, SVG\n",
    "\n",
    "pd.options.display.max_columns=30\n",
    "\n",
    "import gc"
   ]
  },
  {
   "cell_type": "code",
   "execution_count": null,
   "metadata": {},
   "outputs": [],
   "source": [
    "path=Path('./data')"
   ]
  },
  {
   "cell_type": "code",
   "execution_count": null,
   "metadata": {},
   "outputs": [],
   "source": [
    "train = pd.read_feather(path/'train_gr1_transformed.feather')\n",
    "val = pd.read_feather(path/'val_gr1_transformed.feather')"
   ]
  },
  {
   "cell_type": "code",
   "execution_count": null,
   "metadata": {},
   "outputs": [],
   "source": [
    "train = train.drop(index=train[train['content_type_id']==1].index,\n",
    "                   columns = ['row_id', 'content_type_id']).reset_index(drop=True)\n",
    "val = val.drop(index=val[val['content_type_id']==1].index,\n",
    "               columns = ['row_id', 'content_type_id']).reset_index(drop=True)\n",
    "gc.collect()"
   ]
  },
  {
   "cell_type": "code",
   "execution_count": null,
   "metadata": {},
   "outputs": [],
   "source": [
    "train.shape, val.shape"
   ]
  },
  {
   "cell_type": "code",
   "execution_count": null,
   "metadata": {},
   "outputs": [],
   "source": []
  },
  {
   "cell_type": "code",
   "execution_count": null,
   "metadata": {},
   "outputs": [],
   "source": [
    "target = 'answered_correctly'\n",
    "cols = list(val.columns)\n",
    "cols.remove(target)"
   ]
  },
  {
   "cell_type": "code",
   "execution_count": null,
   "metadata": {},
   "outputs": [],
   "source": [
    "print(len(cols))\n",
    "print()\n",
    "print(cols)"
   ]
  },
  {
   "cell_type": "code",
   "execution_count": null,
   "metadata": {},
   "outputs": [],
   "source": [
    "to_remove = ['timestamp',\n",
    "             'user_id',\n",
    "             'target_cumsum',\n",
    "             'prior_question_elapsed_time_cumsum',\n",
    "             'time_per_question_cat',\n",
    "             'bundle_id',\n",
    "             'tb_mean',\n",
    "            ]"
   ]
  },
  {
   "cell_type": "code",
   "execution_count": null,
   "metadata": {},
   "outputs": [],
   "source": [
    "to_remove = ['timestamp', 'user_id', 'content_id', 'task_container_id',\n",
    "             'prior_question_elapsed_time', 'prior_question_had_explanation',\n",
    "             'days', 'user_L10_mean',\n",
    "             'target_cumcount', 'target_cumsum', 'user_mean',\n",
    "             'prior_question_elapsed_time_cumsum', 'n_attempts',\n",
    "             'time_per_question', 'time_per_question_cat', 'tpq_mean',\n",
    "             'lag_time_cat', 'timestamp_prior_time_cumsum_diff', 'time_between_cat',\n",
    "             'tb_mean', 'bundle_id', 'part', 'tags', 'num_of_tags', 'bundle_size',\n",
    "             'question_mean', 'question_std', 'question_skew', 'bundle_mean',\n",
    "             'bundle_std', 'bundle_skew', 'tags_mean', 'tags_std', 'tags_skew',\n",
    "             'user_content_hmean', 'all_hmean', 'all_hsum'\n",
    "            ]"
   ]
  },
  {
   "cell_type": "code",
   "execution_count": null,
   "metadata": {},
   "outputs": [],
   "source": [
    "features = [i for i in cols if i not in to_remove]"
   ]
  },
  {
   "cell_type": "code",
   "execution_count": null,
   "metadata": {
    "scrolled": false
   },
   "outputs": [],
   "source": [
    "print(len(features))\n",
    "print()\n",
    "print(features)"
   ]
  },
  {
   "cell_type": "code",
   "execution_count": null,
   "metadata": {},
   "outputs": [],
   "source": [
    "cat = ['content_id', 'prior_question_had_explanation','n_attempts',\n",
    "       'lag_time_cat', 'time_between_cat', 'part', 'tags', 'num_of_tags', 'bundle_size', \n",
    "      ]"
   ]
  },
  {
   "cell_type": "markdown",
   "metadata": {},
   "source": [
    "RandomForest Classifier"
   ]
  },
  {
   "cell_type": "code",
   "execution_count": null,
   "metadata": {},
   "outputs": [],
   "source": [
    "rf = RandomForestClassifier(n_estimators=10,\n",
    "    criterion='gini',\n",
    "    max_depth=None,\n",
    "    min_samples_split=2,\n",
    "    min_samples_leaf=1,\n",
    "    min_weight_fraction_leaf=0.0,\n",
    "    max_features=1.0,\n",
    "    max_leaf_nodes=None, #default - None\n",
    "    min_impurity_decrease=0.0,\n",
    "    min_impurity_split=None,\n",
    "    bootstrap=True,\n",
    "    oob_score=False,\n",
    "    n_jobs=-1,\n",
    "    random_state=37,\n",
    "    verbose=1,\n",
    "    warm_start=False,\n",
    "    class_weight=None,\n",
    "    ccp_alpha=0.0,\n",
    "    max_samples=0.01)"
   ]
  },
  {
   "cell_type": "code",
   "execution_count": null,
   "metadata": {},
   "outputs": [],
   "source": [
    "rf.fit(train[features].values, train[target].values)"
   ]
  },
  {
   "cell_type": "code",
   "execution_count": null,
   "metadata": {},
   "outputs": [],
   "source": [
    "rf_preds_train = rf.predict_proba(train[features])[:,1]\n",
    "rf_preds_val = rf.predict_proba(val[features])[:,1]"
   ]
  },
  {
   "cell_type": "code",
   "execution_count": null,
   "metadata": {},
   "outputs": [],
   "source": [
    "rf_preds_p2[-5:]"
   ]
  },
  {
   "cell_type": "code",
   "execution_count": null,
   "metadata": {},
   "outputs": [],
   "source": [
    "# rf 60 estimators (new)\n",
    "(roc_auc_score(train[target], rf_preds_train),\n",
    " roc_auc_score(val[target], rf_preds_val))"
   ]
  },
  {
   "cell_type": "code",
   "execution_count": null,
   "metadata": {},
   "outputs": [],
   "source": [
    "fi = rf.feature_importances_"
   ]
  },
  {
   "cell_type": "code",
   "execution_count": null,
   "metadata": {
    "scrolled": true
   },
   "outputs": [],
   "source": [
    "fi[fi.argsort()]"
   ]
  },
  {
   "cell_type": "code",
   "execution_count": null,
   "metadata": {},
   "outputs": [],
   "source": [
    "pd.DataFrame(zip(features, fi), columns=['features', 'importance']).sort_values(by='importance', ascending=False)"
   ]
  },
  {
   "cell_type": "code",
   "execution_count": null,
   "metadata": {},
   "outputs": [],
   "source": [
    "preds_estimators = np.stack([t.predict_proba(val[features])[:,1] for t in rf.estimators_])"
   ]
  },
  {
   "cell_type": "code",
   "execution_count": null,
   "metadata": {},
   "outputs": [],
   "source": [
    "plt.plot([roc_auc_score(val[target], preds_estimators[:i+1].mean(0)) for i in range(len(rf.estimators_))]);"
   ]
  },
  {
   "cell_type": "code",
   "execution_count": null,
   "metadata": {},
   "outputs": [],
   "source": []
  },
  {
   "cell_type": "markdown",
   "metadata": {},
   "source": [
    "XGBoost"
   ]
  },
  {
   "cell_type": "code",
   "execution_count": null,
   "metadata": {},
   "outputs": [],
   "source": [
    "import xgboost as xgb"
   ]
  },
  {
   "cell_type": "code",
   "execution_count": null,
   "metadata": {},
   "outputs": [],
   "source": [
    "print(dir(xgb))"
   ]
  },
  {
   "cell_type": "code",
   "execution_count": null,
   "metadata": {},
   "outputs": [],
   "source": [
    "%%time\n",
    "dtrain = xgb.DMatrix(data=train[features], label=train[target], weight=None, base_margin=None,\n",
    "                        missing=None, silent=True, feature_names=features,\n",
    "                        feature_types=None, nthread=-1,)"
   ]
  },
  {
   "cell_type": "code",
   "execution_count": null,
   "metadata": {},
   "outputs": [],
   "source": [
    "%%time\n",
    "dval = xgb.DMatrix(data=val[features], label=val[target], weight=None, base_margin=None,\n",
    "                        missing=None, silent=True, feature_names=features,\n",
    "                        feature_types=None, nthread=-1,)"
   ]
  },
  {
   "cell_type": "code",
   "execution_count": null,
   "metadata": {},
   "outputs": [],
   "source": [
    "params = {\n",
    "    # Parameters for Tree Booster\n",
    "    'learning_rate':0.6, 'min_split_loss':0,\n",
    "    'max_depth':4, 'subsample':0.1, 'colsample_bytree':1.0,\n",
    "    \n",
    "    # Learning Task Parameters\n",
    "    'objective':'binary:logistic',\n",
    "    'eval_metric':'auc'\n",
    "}"
   ]
  },
  {
   "cell_type": "code",
   "execution_count": null,
   "metadata": {},
   "outputs": [],
   "source": [
    "%%time\n",
    "xgb_booster=xgb.train(params=params, dtrain=dtrain, num_boost_round=1,\n",
    "          evals=((dtrain, 'train'), (dval, 'val')),\n",
    "          obj=None, feval=None, maximize=False,\n",
    "          early_stopping_rounds=None, evals_result=None,\n",
    "          verbose_eval=1, xgb_model=None, callbacks=None)"
   ]
  },
  {
   "cell_type": "code",
   "execution_count": null,
   "metadata": {},
   "outputs": [],
   "source": [
    "xgb_booster.save_model(path.stem+'/models/xgb_g1-3f-d4-perfect')"
   ]
  },
  {
   "cell_type": "code",
   "execution_count": null,
   "metadata": {},
   "outputs": [],
   "source": [
    "xgb.plot_importance(xgb_booster, importance_type='weight')"
   ]
  },
  {
   "cell_type": "code",
   "execution_count": null,
   "metadata": {},
   "outputs": [],
   "source": [
    "xgb.plot_importance(xgb_booster, importance_type='gain')"
   ]
  },
  {
   "cell_type": "markdown",
   "metadata": {},
   "source": [
    "LightGBM"
   ]
  },
  {
   "cell_type": "code",
   "execution_count": null,
   "metadata": {},
   "outputs": [],
   "source": [
    "import lightgbm as lgb"
   ]
  },
  {
   "cell_type": "code",
   "execution_count": null,
   "metadata": {},
   "outputs": [],
   "source": [
    "print(dir(lgb))"
   ]
  },
  {
   "cell_type": "code",
   "execution_count": null,
   "metadata": {},
   "outputs": [],
   "source": [
    "# use cat\n",
    "gtrain = lgb.Dataset(data=train[features], label=train[target], reference=None,\n",
    "                        weight=None, group=None, init_score=None,\n",
    "                        silent=False, feature_name=features,\n",
    "                        categorical_feature=cat, params=None, free_raw_data=True)\n",
    "\n",
    "gval = lgb.Dataset(data=val[features], label=val[target], reference=gtrain,\n",
    "                        weight=None, group=None, init_score=None,\n",
    "                        silent=False, feature_name=features,\n",
    "                        categorical_feature=cat, params=None, free_raw_data=True)\n",
    "gc.collect()"
   ]
  },
  {
   "cell_type": "code",
   "execution_count": null,
   "metadata": {},
   "outputs": [],
   "source": [
    "# cat auto\n",
    "gtrain = lgb.Dataset(data=train[features], label=train[target], reference=None,\n",
    "                        weight=None, group=None, init_score=None,\n",
    "                        silent=False, feature_name='auto',\n",
    "                        categorical_feature='auto', params=None, free_raw_data=True)\n",
    "\n",
    "gval = lgb.Dataset(data=val[features], label=val[target], reference=gtrain,\n",
    "                        weight=None, group=None, init_score=None,\n",
    "                        silent=False, feature_name='auto',\n",
    "                        categorical_feature='auto', params=None, free_raw_data=True)\n",
    "gc.collect()"
   ]
  },
  {
   "cell_type": "code",
   "execution_count": null,
   "metadata": {},
   "outputs": [],
   "source": [
    "lgb_params={\n",
    "    #Core Parameters\n",
    "    'objective':'binary', #cross_entropy\n",
    "    'learning_rate':0.4, #0.05\n",
    "    'num_leaves':31, #127\n",
    "    'num_threads':4,\n",
    "    'device_type':'cpu',\n",
    "    \n",
    "    #Learning Control Parameters\n",
    "    'max_depth':None,\n",
    "#     'feature_pre_filter':False, # to change the min_data_in_leaf\n",
    "    'min_data_in_leaf':20, # 20\n",
    "    'bagging_fraction':0.1,#0.05 increase\n",
    "    'feature_fraction':1.0,\n",
    "    \n",
    "    #Metric Parameters\n",
    "    'metric':'auc'\n",
    "}"
   ]
  },
  {
   "cell_type": "code",
   "execution_count": null,
   "metadata": {
    "scrolled": false
   },
   "outputs": [],
   "source": [
    "%%time\n",
    "# use cat\n",
    "lgb_booster = lgb.train(params=lgb_params, train_set=gtrain, num_boost_round=1000,\n",
    "                        valid_sets=[gtrain, gval], valid_names=['train_df', 'val_df'],\n",
    "                        fobj=None, feval=None,\n",
    "                        init_model=None, feature_name=features, categorical_feature=cat,\n",
    "                        early_stopping_rounds=10, evals_result=None, verbose_eval=100,\n",
    "                        learning_rates=None,\n",
    "                        keep_training_booster=False, callbacks=None)"
   ]
  },
  {
   "cell_type": "code",
   "execution_count": null,
   "metadata": {},
   "outputs": [],
   "source": [
    "lgb_booster.save_model(path.stem+'/models/lgb_g4-30f-l127-cat-396-77636')"
   ]
  },
  {
   "cell_type": "code",
   "execution_count": null,
   "metadata": {
    "scrolled": false
   },
   "outputs": [],
   "source": [
    "%%time\n",
    "# cat auto\n",
    "#list(np.arange(0.6, 0.02, -(0.6-0.02)/1000))\n",
    "lgb_booster = lgb.train(params=lgb_params, train_set=gtrain, num_boost_round=1,\n",
    "                        valid_sets=[gtrain, gval], valid_names=['train_df', 'val_df'],\n",
    "                        fobj=None, feval=None,\n",
    "                        init_model=None, feature_name='auto', categorical_feature='auto',\n",
    "                        early_stopping_rounds=None, evals_result=None, verbose_eval=1,\n",
    "                        learning_rates=None,\n",
    "                        keep_training_booster=False, callbacks=None)"
   ]
  },
  {
   "cell_type": "code",
   "execution_count": null,
   "metadata": {},
   "outputs": [],
   "source": [
    "lgb_booster.save_model(path.stem+'/models/lgb_g1-3f-l31-perfect')"
   ]
  },
  {
   "cell_type": "code",
   "execution_count": null,
   "metadata": {
    "scrolled": true
   },
   "outputs": [],
   "source": [
    "lgb.plot_importance(lgb_booster, importance_type='split')"
   ]
  },
  {
   "cell_type": "code",
   "execution_count": null,
   "metadata": {
    "scrolled": true
   },
   "outputs": [],
   "source": [
    "lgb.plot_importance(lgb_booster, importance_type='gain')"
   ]
  },
  {
   "cell_type": "code",
   "execution_count": null,
   "metadata": {},
   "outputs": [],
   "source": [
    "lgb_booster_1 = lgb.Booster(model_file=path.stem + '/models/lgb_g1-3f-l31-perfect')\n",
    "# lgb_booster_1c = lgb.Booster(model_file=path.stem + '/models/lgb_g1-30f-l127-cat-329-77551')\n",
    "# lgb_booster_2 = lgb.Booster(model_file=path.stem + '/models/lgb_g2-30f-l127-1646-77602')\n",
    "# lgb_booster_2c = lgb.Booster(model_file=path.stem + '/models/lgb_g2-30f-l127-cat-318-77595')\n",
    "# lgb_booster_3 = lgb.Booster(model_file=path.stem + '/models/lgb_g3-30f-l127-1338-77631')\n",
    "# lgb_booster_3c = lgb.Booster(model_file=path.stem + '/models/lgb_g3-30f-l127-cat-391-77672')\n",
    "# lgb_booster_4 = lgb.Booster(model_file=path.stem + '/models/lgb_g4-30f-l127-1802-77642')\n",
    "# lgb_booster_4c = lgb.Booster(model_file=path.stem + '/models/lgb_g4-30f-l127-cat-396-77636')"
   ]
  },
  {
   "cell_type": "code",
   "execution_count": null,
   "metadata": {},
   "outputs": [],
   "source": [
    "lgb_booster_1.num_trees(), #lgb_booster_1c.num_trees()"
   ]
  },
  {
   "cell_type": "code",
   "execution_count": null,
   "metadata": {},
   "outputs": [],
   "source": [
    "val1 = pd.read_feather(path/'val_gr1_transformed.feather')\n",
    "# val2 = pd.read_feather(path/'val_gr2_transformed.feather')\n",
    "# val3 = pd.read_feather(path/'val_gr3_transformed.feather')\n",
    "# val4 = pd.read_feather(path/'val_gr4_transformed.feather')"
   ]
  },
  {
   "cell_type": "code",
   "execution_count": null,
   "metadata": {},
   "outputs": [],
   "source": [
    "val=val1\n",
    "gc.collect()"
   ]
  },
  {
   "cell_type": "code",
   "execution_count": null,
   "metadata": {},
   "outputs": [],
   "source": [
    "%%time\n",
    "lgb_preds_1 = lgb_booster_1.predict(val[features])\n",
    "# lgb_preds_1c = lgb_booster_1c.predict(val[features])\n",
    "# lgb_preds_2 = lgb_booster_2.predict(val[features])\n",
    "# lgb_preds_2c = lgb_booster_2c.predict(val[features])\n",
    "# lgb_preds_3 = lgb_booster_3.predict(val[features])\n",
    "# lgb_preds_3c = lgb_booster_3c.predict(val[features])\n",
    "# lgb_preds_4 = lgb_booster_4.predict(val[features])\n",
    "# lgb_preds_4c = lgb_booster_4c.predict(val[features])"
   ]
  },
  {
   "cell_type": "code",
   "execution_count": null,
   "metadata": {},
   "outputs": [],
   "source": [
    "lgb_preds_1[:7]"
   ]
  },
  {
   "cell_type": "code",
   "execution_count": null,
   "metadata": {},
   "outputs": [],
   "source": [
    "lgb_preds_1c"
   ]
  },
  {
   "cell_type": "code",
   "execution_count": null,
   "metadata": {},
   "outputs": [],
   "source": [
    "val[target].values[:7]"
   ]
  },
  {
   "cell_type": "code",
   "execution_count": null,
   "metadata": {},
   "outputs": [],
   "source": [
    "w=0.5\n",
    "print('lgb 1')\n",
    "print(\"val: {:.5}\".format(roc_auc_score(val[target], lgb_preds_1)))\n",
    "# print(\"val cat: {:.5}\".format(roc_auc_score(val[target], lgb_preds_1c)))\n",
    "# print(\"val avg: {:.5}\".format(roc_auc_score(val[target], w*lgb_preds_1+(1-w)*lgb_preds_1c)))\n",
    "# print()\n",
    "# print('lgb 2')\n",
    "# print(\"val: {:.5}\".format(roc_auc_score(val[target], lgb_preds_2)))\n",
    "# print(\"val cat: {:.5}\".format(roc_auc_score(val[target], lgb_preds_2c)))\n",
    "# print(\"val avg: {:.5}\".format(roc_auc_score(val[target], w*lgb_preds_2+(1-w)*lgb_preds_2c)))\n",
    "# print()\n",
    "# print('lgb 3')\n",
    "# print(\"val: {:.5}\".format(roc_auc_score(val[target], lgb_preds_3)))\n",
    "# print(\"val cat: {:.5}\".format(roc_auc_score(val[target], lgb_preds_3c)))\n",
    "# print(\"val avg: {:.5}\".format(roc_auc_score(val[target], w*lgb_preds_3+(1-w)*lgb_preds_3c)))\n",
    "# print()\n",
    "# print('lgb 4')\n",
    "# print(\"val: {:.5}\".format(roc_auc_score(val[target], lgb_preds_4)))\n",
    "# print(\"val cat: {:.5}\".format(roc_auc_score(val[target], lgb_preds_4c)))\n",
    "# print(\"val avg: {:.5}\".format(roc_auc_score(val[target], w*lgb_preds_4+(1-w)*lgb_preds_4c)))\n",
    "# print()\n",
    "# print('lgb avg all')\n",
    "# print(\"val avg: {:.5}\".format(roc_auc_score(val[target], 0.25*lgb_preds_1+0.25*lgb_preds_2\n",
    "#                                             +0.25*lgb_preds_3 + 0.25*lgb_preds_4)))\n",
    "# print()\n",
    "# print('lgb avg cat all')\n",
    "# print(\"val avg: {:.5}\".format(roc_auc_score(val[target], 0.25*lgb_preds_1c+0.25*lgb_preds_2c\n",
    "#                                             +0.25*lgb_preds_3c+ 0.25*lgb_preds_4c)))\n",
    "# print()\n",
    "# print('lgb avg all')\n",
    "# print(\"val avg: {:.5}\".format(roc_auc_score(val[target], (1-w)/4*lgb_preds_1c+(1-w)/4*lgb_preds_2c\n",
    "#                                             +(1-w)/4*lgb_preds_3c+ (1-w)/4*lgb_preds_4c + w/4*lgb_preds_1c+w/4*lgb_preds_2c\n",
    "#                                             +w/4*lgb_preds_3c+ w/4*lgb_preds_4c)))"
   ]
  },
  {
   "cell_type": "code",
   "execution_count": null,
   "metadata": {},
   "outputs": [],
   "source": []
  },
  {
   "cell_type": "code",
   "execution_count": null,
   "metadata": {},
   "outputs": [],
   "source": [
    "preds = lgb_booster_1.predict(train[features])"
   ]
  },
  {
   "cell_type": "code",
   "execution_count": null,
   "metadata": {},
   "outputs": [],
   "source": [
    "np.unique(preds)"
   ]
  },
  {
   "cell_type": "code",
   "execution_count": null,
   "metadata": {},
   "outputs": [],
   "source": [
    "roc_auc_score(train[target], preds)"
   ]
  },
  {
   "cell_type": "code",
   "execution_count": null,
   "metadata": {},
   "outputs": [],
   "source": [
    "train_p1"
   ]
  },
  {
   "cell_type": "code",
   "execution_count": null,
   "metadata": {},
   "outputs": [],
   "source": [
    "train_p1[train_p1['user_id']==13134].tail(3)"
   ]
  },
  {
   "cell_type": "code",
   "execution_count": null,
   "metadata": {},
   "outputs": [],
   "source": [
    "train_p2[train_p2['user_id']==13134].tail(3)"
   ]
  },
  {
   "cell_type": "code",
   "execution_count": null,
   "metadata": {
    "scrolled": true
   },
   "outputs": [],
   "source": [
    "val_p1[val_p1['user_id']==13134].tail(3)"
   ]
  },
  {
   "cell_type": "code",
   "execution_count": null,
   "metadata": {},
   "outputs": [],
   "source": [
    "val_p2[val_p2['user_id']==13134].head(3)"
   ]
  },
  {
   "cell_type": "code",
   "execution_count": null,
   "metadata": {},
   "outputs": [],
   "source": []
  },
  {
   "cell_type": "code",
   "execution_count": null,
   "metadata": {},
   "outputs": [],
   "source": [
    "data['time_between_clipped']= data['time_between'].clip(upper=600000)"
   ]
  },
  {
   "cell_type": "code",
   "execution_count": null,
   "metadata": {},
   "outputs": [],
   "source": [
    "s = np.round(data['time_between_clipped'],-2).sort_values().values"
   ]
  },
  {
   "cell_type": "code",
   "execution_count": null,
   "metadata": {},
   "outputs": [],
   "source": [
    "np.round(data['time_between_clipped'],-2).value_counts()"
   ]
  },
  {
   "cell_type": "code",
   "execution_count": null,
   "metadata": {},
   "outputs": [],
   "source": []
  },
  {
   "cell_type": "code",
   "execution_count": null,
   "metadata": {},
   "outputs": [],
   "source": []
  },
  {
   "cell_type": "code",
   "execution_count": null,
   "metadata": {},
   "outputs": [],
   "source": [
    "data = pd.read_feather(path/'data_q.feather')\n",
    "# data = pd.read_feather(path/'data_q_transformed.feather')"
   ]
  },
  {
   "cell_type": "code",
   "execution_count": null,
   "metadata": {},
   "outputs": [],
   "source": [
    "data.shape"
   ]
  },
  {
   "cell_type": "code",
   "execution_count": null,
   "metadata": {},
   "outputs": [],
   "source": [
    "user_ = data[['user_id', 'answered_correctly']].groupby('user_id').agg(['count', 'mean'])\n",
    "user_.columns=['a_count', 'a_mean']\n",
    "user_ = user_.reset_index()\n",
    "class_count = user_['a_count'].value_counts().to_frame()\n",
    "class_count.columns = ['class_count']\n",
    "user_ = user_.join(class_count, on='a_count')"
   ]
  },
  {
   "cell_type": "code",
   "execution_count": null,
   "metadata": {},
   "outputs": [],
   "source": [
    "user_"
   ]
  },
  {
   "cell_type": "code",
   "execution_count": null,
   "metadata": {},
   "outputs": [],
   "source": [
    "val_users=[]"
   ]
  },
  {
   "cell_type": "code",
   "execution_count": null,
   "metadata": {},
   "outputs": [],
   "source": [
    "# add 50 users with class_count 1 (362072 rows)\n",
    "seed = 2020\n",
    "val_users.extend(user_[user_['class_count']==1].sample(n=50, random_state=seed)['user_id'].to_list())"
   ]
  },
  {
   "cell_type": "code",
   "execution_count": null,
   "metadata": {},
   "outputs": [],
   "source": [
    "data.loc[data['user_id'].isin(val_users)].shape"
   ]
  },
  {
   "cell_type": "code",
   "execution_count": null,
   "metadata": {},
   "outputs": [],
   "source": [
    "from sklearn.model_selection import train_test_split"
   ]
  },
  {
   "cell_type": "code",
   "execution_count": null,
   "metadata": {},
   "outputs": [],
   "source": [
    "# set 0.5% as new users\n",
    "_, new_user_df = train_test_split(user_[user_['class_count']!=1],\n",
    "                              test_size=0.005,\n",
    "                              stratify=user_[user_['class_count']!=1]['class_count'],\n",
    "                              random_state=seed)"
   ]
  },
  {
   "cell_type": "code",
   "execution_count": null,
   "metadata": {},
   "outputs": [],
   "source": [
    "new_user_df.shape"
   ]
  },
  {
   "cell_type": "code",
   "execution_count": null,
   "metadata": {},
   "outputs": [],
   "source": [
    "data.loc[data['user_id'].isin(new_user_df['user_id'])].shape"
   ]
  },
  {
   "cell_type": "code",
   "execution_count": null,
   "metadata": {},
   "outputs": [],
   "source": [
    "# add 1959 users as new users with stratified class_count (432282 rows)\n",
    "val_users.extend(new_user_df['user_id'].to_list())\n",
    "val_users.sort()"
   ]
  },
  {
   "cell_type": "code",
   "execution_count": null,
   "metadata": {},
   "outputs": [],
   "source": [
    "len(val_users), 362072 + 432282 "
   ]
  },
  {
   "cell_type": "code",
   "execution_count": null,
   "metadata": {},
   "outputs": [],
   "source": [
    "data.loc[data['user_id'].isin(val_users)].shape"
   ]
  },
  {
   "cell_type": "code",
   "execution_count": null,
   "metadata": {},
   "outputs": [],
   "source": [
    "# set 30% from remaining as existing users\n",
    "_, users_to_split_df = train_test_split(user_[(user_['class_count']!=1)&(~user_['user_id'].isin(val_users))],\n",
    "                              test_size=0.3,\n",
    "                              stratify=user_[(user_['class_count']!=1)&(~user_['user_id'].isin(val_users))]['class_count'],\n",
    "                              random_state=2020)"
   ]
  },
  {
   "cell_type": "code",
   "execution_count": null,
   "metadata": {},
   "outputs": [],
   "source": [
    "users_to_split_df"
   ]
  },
  {
   "cell_type": "code",
   "execution_count": null,
   "metadata": {},
   "outputs": [],
   "source": [
    "len(users_to_split_df['user_id'].unique())"
   ]
  },
  {
   "cell_type": "code",
   "execution_count": null,
   "metadata": {},
   "outputs": [],
   "source": [
    "data_ = data.loc[data['user_id'].isin(users_to_split_df['user_id'])].copy()\n",
    "gc.collect()"
   ]
  },
  {
   "cell_type": "code",
   "execution_count": null,
   "metadata": {},
   "outputs": [],
   "source": [
    "data_.shape"
   ]
  },
  {
   "cell_type": "code",
   "execution_count": null,
   "metadata": {},
   "outputs": [],
   "source": [
    "len(data_['user_id'].unique())"
   ]
  },
  {
   "cell_type": "code",
   "execution_count": null,
   "metadata": {},
   "outputs": [],
   "source": [
    "def get_val_idx(df, n_iter=17):\n",
    "        \"\"\"Get validation idx.\"\"\"\n",
    "        \n",
    "        counter = 0\n",
    "        val_idx = []\n",
    "        df['user_filter'] = (df[['user_id', 'task_container_id']].groupby('user_id').transform('nunique').values > n_iter)\n",
    "    \n",
    "        while counter < n_iter:\n",
    "            train_trans = df.loc[df['user_filter'], ['user_id', 'timestamp']].groupby('user_id').transform('max').values.squeeze()\n",
    "            val_filter = (train_trans == df.loc[df['user_filter'], 'timestamp'].values)\n",
    "            val_idx.extend(df.loc[df['user_filter']][val_filter].index.to_list())\n",
    "            val_idx.sort()\n",
    "            \n",
    "            df = df.drop(df[df['user_filter']][val_filter].index)\n",
    "            \n",
    "            counter += 1\n",
    "    \n",
    "        return val_idx"
   ]
  },
  {
   "cell_type": "code",
   "execution_count": null,
   "metadata": {},
   "outputs": [],
   "source": [
    "val_users_from_split = get_val_idx(data_, n_iter=12)"
   ]
  },
  {
   "cell_type": "code",
   "execution_count": null,
   "metadata": {},
   "outputs": [],
   "source": [
    "val_users_from_split[:5]"
   ]
  },
  {
   "cell_type": "code",
   "execution_count": null,
   "metadata": {},
   "outputs": [],
   "source": [
    "len(val_users_from_split)"
   ]
  },
  {
   "cell_type": "code",
   "execution_count": null,
   "metadata": {},
   "outputs": [],
   "source": [
    "794354 + 1832472"
   ]
  },
  {
   "cell_type": "code",
   "execution_count": null,
   "metadata": {},
   "outputs": [],
   "source": [
    "val_df = data.loc[val_users_from_split]"
   ]
  },
  {
   "cell_type": "code",
   "execution_count": null,
   "metadata": {},
   "outputs": [],
   "source": [
    "val_df.shape"
   ]
  },
  {
   "cell_type": "code",
   "execution_count": null,
   "metadata": {},
   "outputs": [],
   "source": [
    "len(val_df['user_id'].unique())"
   ]
  },
  {
   "cell_type": "code",
   "execution_count": null,
   "metadata": {},
   "outputs": [],
   "source": [
    "train_df = data[data['user_id'].isin(users_to_split['user_id'])].drop(data.loc[existing_users_idx].index).reset_index(drop=True)"
   ]
  },
  {
   "cell_type": "code",
   "execution_count": null,
   "metadata": {},
   "outputs": [],
   "source": [
    "common_users = set(train_df['user_id'].unique()).intersection(val_df['user_id'].unique())"
   ]
  },
  {
   "cell_type": "code",
   "execution_count": null,
   "metadata": {},
   "outputs": [],
   "source": [
    "only_in_train = set(train_df['user_id'].unique()).difference(common_users)"
   ]
  },
  {
   "cell_type": "code",
   "execution_count": null,
   "metadata": {},
   "outputs": [],
   "source": [
    "only_in_val = set(val_df['user_id'].unique()).difference(common_users)"
   ]
  },
  {
   "cell_type": "code",
   "execution_count": null,
   "metadata": {},
   "outputs": [],
   "source": [
    "len(common_users), len(only_in_train), len(only_in_val)"
   ]
  },
  {
   "cell_type": "code",
   "execution_count": null,
   "metadata": {},
   "outputs": [],
   "source": [
    "len(common_users) + len(only_in_train) + len(only_in_val)"
   ]
  },
  {
   "cell_type": "code",
   "execution_count": null,
   "metadata": {
    "scrolled": true
   },
   "outputs": [],
   "source": [
    "train_df.shape, val_df.shape"
   ]
  },
  {
   "cell_type": "code",
   "execution_count": null,
   "metadata": {},
   "outputs": [],
   "source": [
    "check = train_df.loc[train_df['user_id'].isin(common_users),['user_id', 'timestamp']].groupby('user_id').max().join(\n",
    "    val_df.loc[val_df['user_id'].isin(common_users), ['user_id', 'timestamp']].groupby('user_id').min(),rsuffix='_val')"
   ]
  },
  {
   "cell_type": "code",
   "execution_count": null,
   "metadata": {},
   "outputs": [],
   "source": [
    "check.shape"
   ]
  },
  {
   "cell_type": "code",
   "execution_count": null,
   "metadata": {},
   "outputs": [],
   "source": [
    "check"
   ]
  },
  {
   "cell_type": "code",
   "execution_count": null,
   "metadata": {},
   "outputs": [],
   "source": [
    "(check['timestamp'] > check['timestamp_val']).sum()"
   ]
  },
  {
   "cell_type": "code",
   "execution_count": null,
   "metadata": {},
   "outputs": [],
   "source": []
  },
  {
   "cell_type": "code",
   "execution_count": null,
   "metadata": {},
   "outputs": [],
   "source": [
    "val_df = val_df.append(data[data['user_id'].isin(val_users)]).sort_values(by=['user_id', 'timestamp']).reset_index(drop=True)"
   ]
  },
  {
   "cell_type": "code",
   "execution_count": null,
   "metadata": {},
   "outputs": [],
   "source": [
    "val_df.shape"
   ]
  },
  {
   "cell_type": "code",
   "execution_count": null,
   "metadata": {},
   "outputs": [],
   "source": [
    "questions_df = pd.read_csv(path/'questions.csv')"
   ]
  },
  {
   "cell_type": "code",
   "execution_count": null,
   "metadata": {},
   "outputs": [],
   "source": [
    "len(questions_df['question_id'].unique())"
   ]
  },
  {
   "cell_type": "code",
   "execution_count": null,
   "metadata": {},
   "outputs": [],
   "source": [
    "len(data['content_id'].unique())"
   ]
  },
  {
   "cell_type": "code",
   "execution_count": null,
   "metadata": {},
   "outputs": [],
   "source": [
    "len(train_df['content_id'].unique())"
   ]
  },
  {
   "cell_type": "code",
   "execution_count": null,
   "metadata": {},
   "outputs": [],
   "source": [
    "len(val_df['content_id'].unique())"
   ]
  },
  {
   "cell_type": "code",
   "execution_count": null,
   "metadata": {},
   "outputs": [],
   "source": [
    "train_df.head()"
   ]
  },
  {
   "cell_type": "code",
   "execution_count": null,
   "metadata": {},
   "outputs": [],
   "source": []
  },
  {
   "cell_type": "code",
   "execution_count": null,
   "metadata": {},
   "outputs": [],
   "source": [
    "train_df.to_feather(path/'train_m.feather')\n",
    "val_df.to_feather(path/'val_m.feather')"
   ]
  },
  {
   "cell_type": "code",
   "execution_count": null,
   "metadata": {},
   "outputs": [],
   "source": []
  },
  {
   "cell_type": "code",
   "execution_count": null,
   "metadata": {},
   "outputs": [],
   "source": []
  },
  {
   "cell_type": "code",
   "execution_count": null,
   "metadata": {},
   "outputs": [],
   "source": [
    "import random\n",
    "\n",
    "seed = 2020\n",
    "random.seed(seed)"
   ]
  },
  {
   "cell_type": "code",
   "execution_count": null,
   "metadata": {},
   "outputs": [],
   "source": [
    "train = pd.read_csv(path/'train.csv',\n",
    "                   dtype={'row_id': 'int64',\n",
    "                          'timestamp': 'int64',\n",
    "                          'user_id': 'int32',\n",
    "                          'content_id': 'int16',\n",
    "                          'content_type_id': 'int8',\n",
    "                          'task_container_id': 'int16',\n",
    "                          'user_answer': 'int8',\n",
    "                          'answered_correctly':'int8',\n",
    "                          'prior_question_elapsed_time': 'float32',\n",
    "                          'prior_question_had_explanation': 'boolean'}\n",
    "                   )"
   ]
  },
  {
   "cell_type": "code",
   "execution_count": null,
   "metadata": {},
   "outputs": [],
   "source": [
    "train = train.drop(index=train[train['content_type_id']==1].index,\n",
    "                   columns = ['content_type_id', 'user_answer']).reset_index(drop=True)"
   ]
  },
  {
   "cell_type": "code",
   "execution_count": null,
   "metadata": {},
   "outputs": [],
   "source": [
    "train.shape"
   ]
  },
  {
   "cell_type": "code",
   "execution_count": null,
   "metadata": {},
   "outputs": [],
   "source": [
    "max_timestamp_u = train[['user_id','timestamp']].groupby(['user_id']).agg(['max']).reset_index()\n",
    "max_timestamp_u.columns = ['user_id', 'max_time_stamp']\n",
    "MAX_TIME_STAMP = max_timestamp_u.max_time_stamp.max()"
   ]
  },
  {
   "cell_type": "code",
   "execution_count": null,
   "metadata": {},
   "outputs": [],
   "source": [
    "def rand_time(max_time_stamp):\n",
    "    interval = MAX_TIME_STAMP - max_time_stamp\n",
    "    rand_time_stamp = random.randint(0,interval)\n",
    "    return rand_time_stamp"
   ]
  },
  {
   "cell_type": "code",
   "execution_count": null,
   "metadata": {},
   "outputs": [],
   "source": [
    "max_timestamp_u['rand_time_stamp'] = max_timestamp_u.max_time_stamp.apply(rand_time)\n",
    "train = train.merge(max_timestamp_u, on='user_id', how='left')\n",
    "train['viretual_time_stamp'] = train.timestamp + train['rand_time_stamp']"
   ]
  },
  {
   "cell_type": "code",
   "execution_count": null,
   "metadata": {},
   "outputs": [],
   "source": [
    "len(train['user_id'].unique())"
   ]
  },
  {
   "cell_type": "code",
   "execution_count": null,
   "metadata": {},
   "outputs": [],
   "source": [
    "users = train[['user_id', 'timestamp']].groupby('user_id').first().reset_index()"
   ]
  },
  {
   "cell_type": "code",
   "execution_count": null,
   "metadata": {},
   "outputs": [],
   "source": [
    "users"
   ]
  },
  {
   "cell_type": "code",
   "execution_count": null,
   "metadata": {},
   "outputs": [],
   "source": [
    "user_gr1 = users['user_id'].sample(n=100000, random_state=2020).to_list()\n",
    "user_gr1.sort()"
   ]
  },
  {
   "cell_type": "code",
   "execution_count": null,
   "metadata": {},
   "outputs": [],
   "source": [
    "user_gr2 = users.loc[~users['user_id'].isin(user_gr1)].sample(n=100000, random_state=2020)['user_id'].to_list()\n",
    "user_gr2.sort()"
   ]
  },
  {
   "cell_type": "code",
   "execution_count": null,
   "metadata": {},
   "outputs": [],
   "source": [
    "user_gr3 = users.loc[~users['user_id'].isin(user_gr1+user_gr2)].sample(n=100000, random_state=2020)['user_id'].to_list()\n",
    "user_gr3.sort()"
   ]
  },
  {
   "cell_type": "code",
   "execution_count": null,
   "metadata": {},
   "outputs": [],
   "source": [
    "user_gr4 = users.loc[~users['user_id'].isin(user_gr1+user_gr2+user_gr3)]['user_id'].to_list()\n",
    "user_gr4.sort()"
   ]
  },
  {
   "cell_type": "code",
   "execution_count": null,
   "metadata": {},
   "outputs": [],
   "source": [
    "assert (len(user_gr1 + user_gr2 + user_gr3 + user_gr4) == users.shape[0])"
   ]
  },
  {
   "cell_type": "code",
   "execution_count": null,
   "metadata": {},
   "outputs": [],
   "source": [
    "# train.loc[train['user_id'].isin(user_gr4)]"
   ]
  },
  {
   "cell_type": "code",
   "execution_count": null,
   "metadata": {},
   "outputs": [],
   "source": [
    "train_gr1 = train.loc[train['user_id'].isin(user_gr1)]\n",
    "train_gr2 = train.loc[train['user_id'].isin(user_gr2)]\n",
    "train_gr3 = train.loc[train['user_id'].isin(user_gr3)]\n",
    "train_gr4 = train.loc[train['user_id'].isin(user_gr4)]"
   ]
  },
  {
   "cell_type": "code",
   "execution_count": null,
   "metadata": {},
   "outputs": [],
   "source": [
    "train_gr1.shape"
   ]
  },
  {
   "cell_type": "code",
   "execution_count": null,
   "metadata": {},
   "outputs": [],
   "source": [
    "train_gr2.shape"
   ]
  },
  {
   "cell_type": "code",
   "execution_count": null,
   "metadata": {},
   "outputs": [],
   "source": [
    "train_gr3.shape"
   ]
  },
  {
   "cell_type": "code",
   "execution_count": null,
   "metadata": {},
   "outputs": [],
   "source": [
    "train_gr4.shape"
   ]
  },
  {
   "cell_type": "code",
   "execution_count": null,
   "metadata": {},
   "outputs": [],
   "source": [
    "train = train.sort_values(['viretual_time_stamp', 'row_id']).reset_index(drop=True)"
   ]
  },
  {
   "cell_type": "code",
   "execution_count": null,
   "metadata": {},
   "outputs": [],
   "source": [
    "train_gr1 = train_gr1.sort_values(['viretual_time_stamp', 'row_id']).reset_index(drop=True)\n",
    "train_gr2 = train_gr2.sort_values(['viretual_time_stamp', 'row_id']).reset_index(drop=True)\n",
    "train_gr3 = train_gr3.sort_values(['viretual_time_stamp', 'row_id']).reset_index(drop=True)\n",
    "train_gr4 = train_gr4.sort_values(['viretual_time_stamp', 'row_id']).reset_index(drop=True)"
   ]
  },
  {
   "cell_type": "code",
   "execution_count": null,
   "metadata": {},
   "outputs": [],
   "source": [
    "valid_gr1 = train_gr1[-2500000:]\n",
    "train_gr1 = train_gr1[:-2500000]\n",
    "valid_gr2 = train_gr2[-2500000:]\n",
    "train_gr2 = train_gr2[:-2500000]\n",
    "valid_gr3 = train_gr3[-2500000:]\n",
    "train_gr3 = train_gr3[:-2500000]\n",
    "valid_gr4 = train_gr4[-2500000:]\n",
    "train_gr4 = train_gr4[:-2500000]"
   ]
  },
  {
   "cell_type": "code",
   "execution_count": null,
   "metadata": {},
   "outputs": [],
   "source": [
    "train_gr1 = train_gr1.sort_values(by=['user_id', 'timestamp']).reset_index(drop=True)\n",
    "valid_gr1 = valid_gr1.sort_values(by=['user_id', 'timestamp']).reset_index(drop=True)\n",
    "train_gr2 = train_gr2.sort_values(by=['user_id', 'timestamp']).reset_index(drop=True)\n",
    "valid_gr2 = valid_gr2.sort_values(by=['user_id', 'timestamp']).reset_index(drop=True)\n",
    "train_gr3 = train_gr3.sort_values(by=['user_id', 'timestamp']).reset_index(drop=True)\n",
    "valid_gr3 = valid_gr3.sort_values(by=['user_id', 'timestamp']).reset_index(drop=True)\n",
    "train_gr4 = train_gr4.sort_values(by=['user_id', 'timestamp']).reset_index(drop=True)\n",
    "valid_gr4 = valid_gr4.sort_values(by=['user_id', 'timestamp']).reset_index(drop=True)"
   ]
  },
  {
   "cell_type": "code",
   "execution_count": null,
   "metadata": {},
   "outputs": [],
   "source": [
    "tmp1 = train_gr1[['user_id', 'timestamp']].groupby('user_id').max().join(valid_gr1[['user_id', 'timestamp']].groupby('user_id').min(),\n",
    "                                                                 rsuffix='_val', how='inner')\n",
    "tmp2 = train_gr2[['user_id', 'timestamp']].groupby('user_id').max().join(valid_gr2[['user_id', 'timestamp']].groupby('user_id').min(),\n",
    "                                                                 rsuffix='_val', how='inner')\n",
    "tmp3 = train_gr3[['user_id', 'timestamp']].groupby('user_id').max().join(valid_gr3[['user_id', 'timestamp']].groupby('user_id').min(),\n",
    "                                                                 rsuffix='_val', how='inner')\n",
    "tmp4 = train_gr4[['user_id', 'timestamp']].groupby('user_id').max().join(valid_gr4[['user_id', 'timestamp']].groupby('user_id').min(),\n",
    "                                                                 rsuffix='_val', how='inner')"
   ]
  },
  {
   "cell_type": "code",
   "execution_count": null,
   "metadata": {},
   "outputs": [],
   "source": [
    "tmp2[tmp2['timestamp'] == tmp2['timestamp_val']]"
   ]
  },
  {
   "cell_type": "code",
   "execution_count": null,
   "metadata": {},
   "outputs": [],
   "source": [
    "train_gr2[(train_gr2['user_id'] == 1558331816) & (train_gr2['timestamp'] == 16484595726)]"
   ]
  },
  {
   "cell_type": "code",
   "execution_count": null,
   "metadata": {},
   "outputs": [],
   "source": [
    "valid_gr2[(valid_gr2['user_id'] == 1558331816) & (valid_gr2['timestamp'] == 16484595726)]"
   ]
  },
  {
   "cell_type": "code",
   "execution_count": null,
   "metadata": {},
   "outputs": [],
   "source": []
  },
  {
   "cell_type": "code",
   "execution_count": null,
   "metadata": {},
   "outputs": [],
   "source": [
    "# train_gr1['row_id'].to_pickle(path/'train_gr1_row_id.pickle')\n",
    "# valid_gr1['row_id'].to_pickle(path/'val_gr1_row_id.pickle')\n",
    "# train_gr2['row_id'].to_pickle(path/'train_gr2_row_id.pickle')\n",
    "# valid_gr2['row_id'].to_pickle(path/'val_gr2_row_id.pickle')\n",
    "# train_gr3['row_id'].to_pickle(path/'train_gr3_row_id.pickle')\n",
    "# valid_gr3['row_id'].to_pickle(path/'val_gr3_row_id.pickle')\n",
    "# train_gr4['row_id'].to_pickle(path/'train_gr4_row_id.pickle')\n",
    "# valid_gr4['row_id'].to_pickle(path/'val_gr4_row_id.pickle')"
   ]
  },
  {
   "cell_type": "code",
   "execution_count": null,
   "metadata": {},
   "outputs": [],
   "source": [
    "train_gr1_list = train_gr1['row_id'].to_list()\n",
    "valid_gr1_list = valid_gr1['row_id'].to_list()\n",
    "train_gr2_list = train_gr2['row_id'].to_list()\n",
    "valid_gr2_list = valid_gr2['row_id'].to_list()\n",
    "train_gr3_list = train_gr3['row_id'].to_list()\n",
    "valid_gr3_list = valid_gr3['row_id'].to_list()\n",
    "train_gr4_list = train_gr4['row_id'].to_list()\n",
    "valid_gr4_list = valid_gr4['row_id'].to_list()"
   ]
  },
  {
   "cell_type": "code",
   "execution_count": null,
   "metadata": {},
   "outputs": [],
   "source": [
    "73251571"
   ]
  },
  {
   "cell_type": "code",
   "execution_count": null,
   "metadata": {},
   "outputs": [],
   "source": [
    "train_gr2_list.append(73251571)\n",
    "train_gr2_list.sort()\n",
    "valid_gr2_list.remove(73251571)"
   ]
  },
  {
   "cell_type": "code",
   "execution_count": null,
   "metadata": {},
   "outputs": [],
   "source": [
    "with open(path/'train_gr1_row_id.pickle', mode='wb') as file:\n",
    "    pickle.dump(train_gr1_list, file)\n",
    "with open(path/'val_gr1_row_id.pickle', mode='wb') as file:\n",
    "    pickle.dump(valid_gr1_list, file)\n",
    "    \n",
    "with open(path/'train_gr2_row_id.pickle', mode='wb') as file:\n",
    "    pickle.dump(train_gr2_list, file)\n",
    "with open(path/'val_gr2_row_id.pickle', mode='wb') as file:\n",
    "    pickle.dump(valid_gr2_list, file)\n",
    "    \n",
    "with open(path/'train_gr3_row_id.pickle', mode='wb') as file:\n",
    "    pickle.dump(train_gr3_list, file)\n",
    "with open(path/'val_gr3_row_id.pickle', mode='wb') as file:\n",
    "    pickle.dump(valid_gr3_list, file)\n",
    "    \n",
    "with open(path/'train_gr4_row_id.pickle', mode='wb') as file:\n",
    "    pickle.dump(train_gr4_list, file)\n",
    "with open(path/'val_gr4_row_id.pickle', mode='wb') as file:\n",
    "    pickle.dump(valid_gr4_list, file)"
   ]
  },
  {
   "cell_type": "code",
   "execution_count": null,
   "metadata": {},
   "outputs": [],
   "source": []
  },
  {
   "cell_type": "code",
   "execution_count": null,
   "metadata": {},
   "outputs": [],
   "source": []
  },
  {
   "cell_type": "code",
   "execution_count": null,
   "metadata": {},
   "outputs": [],
   "source": [
    "with open(path/'train_gr2_row_id.pickle', mode='rb') as file:\n",
    "    tr2 = pickle.load(file)"
   ]
  },
  {
   "cell_type": "code",
   "execution_count": null,
   "metadata": {},
   "outputs": [],
   "source": [
    "train.loc[train['row_id'].isin(tr2)]"
   ]
  },
  {
   "cell_type": "code",
   "execution_count": null,
   "metadata": {},
   "outputs": [],
   "source": []
  },
  {
   "cell_type": "code",
   "execution_count": null,
   "metadata": {},
   "outputs": [],
   "source": []
  },
  {
   "cell_type": "code",
   "execution_count": null,
   "metadata": {},
   "outputs": [],
   "source": []
  },
  {
   "cell_type": "code",
   "execution_count": null,
   "metadata": {},
   "outputs": [],
   "source": []
  },
  {
   "cell_type": "code",
   "execution_count": null,
   "metadata": {},
   "outputs": [],
   "source": []
  },
  {
   "cell_type": "code",
   "execution_count": null,
   "metadata": {},
   "outputs": [],
   "source": [
    "tr2"
   ]
  },
  {
   "cell_type": "code",
   "execution_count": null,
   "metadata": {},
   "outputs": [],
   "source": []
  },
  {
   "cell_type": "code",
   "execution_count": null,
   "metadata": {},
   "outputs": [],
   "source": []
  },
  {
   "cell_type": "code",
   "execution_count": null,
   "metadata": {},
   "outputs": [],
   "source": [
    "train.head()"
   ]
  },
  {
   "cell_type": "code",
   "execution_count": null,
   "metadata": {},
   "outputs": [],
   "source": [
    "val_size = 2500000\n",
    "\n",
    "for cv in range(5):\n",
    "    valid = train[-val_size:]\n",
    "    train = train[:-val_size]\n",
    "    \n",
    "    valid['row_id'].to_pickle(f'cv{cv+1}_valid_rows.pickle')\n",
    "    train['row_id'].to_pickle(f'cv{cv+1}_train_rows.pickle')"
   ]
  },
  {
   "cell_type": "code",
   "execution_count": null,
   "metadata": {},
   "outputs": [],
   "source": [
    "train.shape"
   ]
  },
  {
   "cell_type": "code",
   "execution_count": null,
   "metadata": {},
   "outputs": [],
   "source": []
  },
  {
   "cell_type": "code",
   "execution_count": null,
   "metadata": {},
   "outputs": [],
   "source": []
  },
  {
   "cell_type": "code",
   "execution_count": null,
   "metadata": {},
   "outputs": [],
   "source": []
  }
 ],
 "metadata": {
  "kernelspec": {
   "display_name": "Python 3",
   "language": "python",
   "name": "python3"
  },
  "language_info": {
   "codemirror_mode": {
    "name": "ipython",
    "version": 3
   },
   "file_extension": ".py",
   "mimetype": "text/x-python",
   "name": "python",
   "nbconvert_exporter": "python",
   "pygments_lexer": "ipython3",
   "version": "3.8.2"
  }
 },
 "nbformat": 4,
 "nbformat_minor": 4
}
